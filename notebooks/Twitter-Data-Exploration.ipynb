{
 "cells": [
  {
   "cell_type": "markdown",
   "id": "fc476c49",
   "metadata": {},
   "source": [
    "\n",
    "# Data Explanatory & Pre processing\n"
   ]
  },
  {
   "cell_type": "code",
   "execution_count": 2,
   "id": "347e7622",
   "metadata": {},
   "outputs": [
    {
     "data": {
      "text/html": [
       "<div>\n",
       "<style scoped>\n",
       "    .dataframe tbody tr th:only-of-type {\n",
       "        vertical-align: middle;\n",
       "    }\n",
       "\n",
       "    .dataframe tbody tr th {\n",
       "        vertical-align: top;\n",
       "    }\n",
       "\n",
       "    .dataframe thead th {\n",
       "        text-align: right;\n",
       "    }\n",
       "</style>\n",
       "<table border=\"1\" class=\"dataframe\">\n",
       "  <thead>\n",
       "    <tr style=\"text-align: right;\">\n",
       "      <th></th>\n",
       "      <th>statuses_count</th>\n",
       "      <th>created_at</th>\n",
       "      <th>source</th>\n",
       "      <th>original_text</th>\n",
       "      <th>polarity</th>\n",
       "      <th>subjectivity</th>\n",
       "      <th>favorite_count</th>\n",
       "      <th>retweet_count</th>\n",
       "      <th>screen_name</th>\n",
       "      <th>followers_count</th>\n",
       "      <th>friends_count</th>\n",
       "      <th>possibly_sensitive</th>\n",
       "      <th>hashtags</th>\n",
       "      <th>user_mentions</th>\n",
       "      <th>location</th>\n",
       "      <th>language</th>\n",
       "    </tr>\n",
       "  </thead>\n",
       "  <tbody>\n",
       "    <tr>\n",
       "      <th>0</th>\n",
       "      <td>40</td>\n",
       "      <td>Fri Apr 22 22:20:18 +0000 2022</td>\n",
       "      <td>&lt;a href=\"http://twitter.com/download/android\" ...</td>\n",
       "      <td>RT @nikitheblogger: Irre: Annalena Baerbock sa...</td>\n",
       "      <td>0.0</td>\n",
       "      <td>0.0</td>\n",
       "      <td>2356</td>\n",
       "      <td>355</td>\n",
       "      <td>McMc74078966</td>\n",
       "      <td>3</td>\n",
       "      <td>12</td>\n",
       "      <td>NaN</td>\n",
       "      <td>[]</td>\n",
       "      <td>[{'screen_name': 'nikitheblogger', 'name': 'Ne...</td>\n",
       "      <td>NaN</td>\n",
       "      <td>de</td>\n",
       "    </tr>\n",
       "    <tr>\n",
       "      <th>1</th>\n",
       "      <td>40</td>\n",
       "      <td>Fri Apr 22 22:19:16 +0000 2022</td>\n",
       "      <td>&lt;a href=\"http://twitter.com/download/android\" ...</td>\n",
       "      <td>RT @sagt_mit: Merkel schaffte es in 1 Jahr 1 M...</td>\n",
       "      <td>0.0</td>\n",
       "      <td>0.0</td>\n",
       "      <td>1985</td>\n",
       "      <td>505</td>\n",
       "      <td>McMc74078966</td>\n",
       "      <td>3</td>\n",
       "      <td>12</td>\n",
       "      <td>NaN</td>\n",
       "      <td>[]</td>\n",
       "      <td>[{'screen_name': 'sagt_mit', 'name': 'Sie sagt...</td>\n",
       "      <td>NaN</td>\n",
       "      <td>de</td>\n",
       "    </tr>\n",
       "    <tr>\n",
       "      <th>2</th>\n",
       "      <td>40</td>\n",
       "      <td>Fri Apr 22 22:17:28 +0000 2022</td>\n",
       "      <td>&lt;a href=\"http://twitter.com/download/android\" ...</td>\n",
       "      <td>RT @Kryptonoun: @WRi007 Pharma in Lebensmittel...</td>\n",
       "      <td>0.0</td>\n",
       "      <td>0.0</td>\n",
       "      <td>16</td>\n",
       "      <td>4</td>\n",
       "      <td>McMc74078966</td>\n",
       "      <td>3</td>\n",
       "      <td>12</td>\n",
       "      <td>NaN</td>\n",
       "      <td>[]</td>\n",
       "      <td>[{'screen_name': 'Kryptonoun', 'name': 'Krypto...</td>\n",
       "      <td>NaN</td>\n",
       "      <td>de</td>\n",
       "    </tr>\n",
       "    <tr>\n",
       "      <th>3</th>\n",
       "      <td>40</td>\n",
       "      <td>Fri Apr 22 22:17:20 +0000 2022</td>\n",
       "      <td>&lt;a href=\"http://twitter.com/download/android\" ...</td>\n",
       "      <td>RT @WRi007: Die #Deutschen sind ein braves Vol...</td>\n",
       "      <td>0.0</td>\n",
       "      <td>0.0</td>\n",
       "      <td>1242</td>\n",
       "      <td>332</td>\n",
       "      <td>McMc74078966</td>\n",
       "      <td>3</td>\n",
       "      <td>12</td>\n",
       "      <td>NaN</td>\n",
       "      <td>[{'text': 'Deutschen', 'indices': [16, 26]}, {...</td>\n",
       "      <td>[{'screen_name': 'WRi007', 'name': 'Wolfgang B...</td>\n",
       "      <td>NaN</td>\n",
       "      <td>de</td>\n",
       "    </tr>\n",
       "    <tr>\n",
       "      <th>4</th>\n",
       "      <td>40</td>\n",
       "      <td>Fri Apr 22 22:13:15 +0000 2022</td>\n",
       "      <td>&lt;a href=\"http://twitter.com/download/android\" ...</td>\n",
       "      <td>RT @RolandTichy: Baerbock verkÃ¼ndet mal so ne...</td>\n",
       "      <td>0.0</td>\n",
       "      <td>0.0</td>\n",
       "      <td>1329</td>\n",
       "      <td>386</td>\n",
       "      <td>McMc74078966</td>\n",
       "      <td>3</td>\n",
       "      <td>12</td>\n",
       "      <td>NaN</td>\n",
       "      <td>[]</td>\n",
       "      <td>[{'screen_name': 'RolandTichy', 'name': 'Rolan...</td>\n",
       "      <td>NaN</td>\n",
       "      <td>de</td>\n",
       "    </tr>\n",
       "  </tbody>\n",
       "</table>\n",
       "</div>"
      ],
      "text/plain": [
       "   statuses_count                      created_at  \\\n",
       "0              40  Fri Apr 22 22:20:18 +0000 2022   \n",
       "1              40  Fri Apr 22 22:19:16 +0000 2022   \n",
       "2              40  Fri Apr 22 22:17:28 +0000 2022   \n",
       "3              40  Fri Apr 22 22:17:20 +0000 2022   \n",
       "4              40  Fri Apr 22 22:13:15 +0000 2022   \n",
       "\n",
       "                                              source  \\\n",
       "0  <a href=\"http://twitter.com/download/android\" ...   \n",
       "1  <a href=\"http://twitter.com/download/android\" ...   \n",
       "2  <a href=\"http://twitter.com/download/android\" ...   \n",
       "3  <a href=\"http://twitter.com/download/android\" ...   \n",
       "4  <a href=\"http://twitter.com/download/android\" ...   \n",
       "\n",
       "                                       original_text  polarity  subjectivity  \\\n",
       "0  RT @nikitheblogger: Irre: Annalena Baerbock sa...       0.0           0.0   \n",
       "1  RT @sagt_mit: Merkel schaffte es in 1 Jahr 1 M...       0.0           0.0   \n",
       "2  RT @Kryptonoun: @WRi007 Pharma in Lebensmittel...       0.0           0.0   \n",
       "3  RT @WRi007: Die #Deutschen sind ein braves Vol...       0.0           0.0   \n",
       "4  RT @RolandTichy: Baerbock verkÃ¼ndet mal so ne...       0.0           0.0   \n",
       "\n",
       "   favorite_count  retweet_count   screen_name  followers_count  \\\n",
       "0            2356            355  McMc74078966                3   \n",
       "1            1985            505  McMc74078966                3   \n",
       "2              16              4  McMc74078966                3   \n",
       "3            1242            332  McMc74078966                3   \n",
       "4            1329            386  McMc74078966                3   \n",
       "\n",
       "   friends_count possibly_sensitive  \\\n",
       "0             12                NaN   \n",
       "1             12                NaN   \n",
       "2             12                NaN   \n",
       "3             12                NaN   \n",
       "4             12                NaN   \n",
       "\n",
       "                                            hashtags  \\\n",
       "0                                                 []   \n",
       "1                                                 []   \n",
       "2                                                 []   \n",
       "3  [{'text': 'Deutschen', 'indices': [16, 26]}, {...   \n",
       "4                                                 []   \n",
       "\n",
       "                                       user_mentions location language  \n",
       "0  [{'screen_name': 'nikitheblogger', 'name': 'Ne...      NaN       de  \n",
       "1  [{'screen_name': 'sagt_mit', 'name': 'Sie sagt...      NaN       de  \n",
       "2  [{'screen_name': 'Kryptonoun', 'name': 'Krypto...      NaN       de  \n",
       "3  [{'screen_name': 'WRi007', 'name': 'Wolfgang B...      NaN       de  \n",
       "4  [{'screen_name': 'RolandTichy', 'name': 'Rolan...      NaN       de  "
      ]
     },
     "execution_count": 2,
     "metadata": {},
     "output_type": "execute_result"
    }
   ],
   "source": [
    "import pandas as pd\n",
    "import matplotlib. pyplot as plt\n",
    "import numpy as np\n",
    "import seaborn as sns\n",
    "\n",
    "df = pd.read_csv('../data/processed_tweet_data.csv', encoding='latin-1')\n",
    "\n",
    "df.head()"
   ]
  },
  {
   "cell_type": "markdown",
   "id": "b9ba146a",
   "metadata": {},
   "source": [
    "##### knowing the data types of the variable"
   ]
  },
  {
   "cell_type": "code",
   "execution_count": 148,
   "id": "226ac5a9",
   "metadata": {},
   "outputs": [
    {
     "name": "stdout",
     "output_type": "stream",
     "text": [
      "<class 'pandas.core.frame.DataFrame'>\n",
      "RangeIndex: 24625 entries, 0 to 24624\n",
      "Data columns (total 16 columns):\n",
      " #   Column              Non-Null Count  Dtype  \n",
      "---  ------              --------------  -----  \n",
      " 0   statuses_count      24625 non-null  int64  \n",
      " 1   created_at          24625 non-null  object \n",
      " 2   source              24625 non-null  object \n",
      " 3   original_text       24625 non-null  object \n",
      " 4   polarity            24625 non-null  float64\n",
      " 5   subjectivity        24625 non-null  float64\n",
      " 6   favorite_count      24625 non-null  int64  \n",
      " 7   retweet_count       24625 non-null  int64  \n",
      " 8   screen_name         24625 non-null  object \n",
      " 9   followers_count     24625 non-null  int64  \n",
      " 10  friends_count       24625 non-null  int64  \n",
      " 11  possibly_sensitive  9975 non-null   object \n",
      " 12  hashtags            24625 non-null  object \n",
      " 13  user_mentions       24625 non-null  object \n",
      " 14  location            15731 non-null  object \n",
      " 15  language            24625 non-null  object \n",
      "dtypes: float64(2), int64(5), object(9)\n",
      "memory usage: 3.0+ MB\n",
      "None\n"
     ]
    }
   ],
   "source": [
    "print(df.info())"
   ]
  },
  {
   "cell_type": "markdown",
   "id": "d388eabb",
   "metadata": {},
   "source": [
    "##### To know how many columns(variables) and rows(expierments)"
   ]
  },
  {
   "cell_type": "code",
   "execution_count": 149,
   "id": "49d8744a",
   "metadata": {},
   "outputs": [
    {
     "data": {
      "text/plain": [
       "(24625, 16)"
      ]
     },
     "execution_count": 149,
     "metadata": {},
     "output_type": "execute_result"
    }
   ],
   "source": [
    "df.shape"
   ]
  },
  {
   "cell_type": "markdown",
   "id": "a385ab54",
   "metadata": {},
   "source": [
    "##### To Know Total amounts of null values"
   ]
  },
  {
   "cell_type": "code",
   "execution_count": 150,
   "id": "0d59df1b",
   "metadata": {},
   "outputs": [
    {
     "data": {
      "text/plain": [
       "statuses_count            0\n",
       "created_at                0\n",
       "source                    0\n",
       "original_text             0\n",
       "polarity                  0\n",
       "subjectivity              0\n",
       "favorite_count            0\n",
       "retweet_count             0\n",
       "screen_name               0\n",
       "followers_count           0\n",
       "friends_count             0\n",
       "possibly_sensitive    14650\n",
       "hashtags                  0\n",
       "user_mentions             0\n",
       "location               8894\n",
       "language                  0\n",
       "dtype: int64"
      ]
     },
     "execution_count": 150,
     "metadata": {},
     "output_type": "execute_result"
    }
   ],
   "source": [
    "df.isna().sum()"
   ]
  },
  {
   "cell_type": "markdown",
   "id": "4c2077f5",
   "metadata": {},
   "source": [
    "#### Removing Duplicates"
   ]
  },
  {
   "cell_type": "code",
   "execution_count": 151,
   "id": "a2192a4a",
   "metadata": {},
   "outputs": [
    {
     "name": "stdout",
     "output_type": "stream",
     "text": [
      "Automation in Action...!!!\n"
     ]
    }
   ],
   "source": [
    "from clean_tweets_dataframe import Clean_Tweets\n",
    "clean_tweets = Clean_Tweets(df)\n",
    "\n"
   ]
  },
  {
   "cell_type": "code",
   "execution_count": 152,
   "id": "d96d4179",
   "metadata": {},
   "outputs": [
    {
     "data": {
      "text/plain": [
       "(24625, 16)"
      ]
     },
     "execution_count": 152,
     "metadata": {},
     "output_type": "execute_result"
    }
   ],
   "source": [
    "clean_tweets.drop_duplicate(df)\n",
    "df.shape"
   ]
  },
  {
   "cell_type": "markdown",
   "id": "8711ba21",
   "metadata": {},
   "source": [
    "##### No Duplicate Values"
   ]
  },
  {
   "cell_type": "code",
   "execution_count": 153,
   "id": "a0d4300a",
   "metadata": {},
   "outputs": [
    {
     "name": "stdout",
     "output_type": "stream",
     "text": [
      "<class 'pandas.core.frame.DataFrame'>\n",
      "RangeIndex: 24625 entries, 0 to 24624\n",
      "Data columns (total 16 columns):\n",
      " #   Column              Non-Null Count  Dtype  \n",
      "---  ------              --------------  -----  \n",
      " 0   statuses_count      24625 non-null  int64  \n",
      " 1   created_at          24625 non-null  object \n",
      " 2   source              24625 non-null  object \n",
      " 3   original_text       24625 non-null  object \n",
      " 4   polarity            24625 non-null  float64\n",
      " 5   subjectivity        24625 non-null  float64\n",
      " 6   favorite_count      24625 non-null  int64  \n",
      " 7   retweet_count       24625 non-null  int64  \n",
      " 8   screen_name         24625 non-null  object \n",
      " 9   followers_count     24625 non-null  int64  \n",
      " 10  friends_count       24625 non-null  int64  \n",
      " 11  possibly_sensitive  9975 non-null   object \n",
      " 12  hashtags            24625 non-null  object \n",
      " 13  user_mentions       24625 non-null  object \n",
      " 14  location            15731 non-null  object \n",
      " 15  language            24625 non-null  object \n",
      "dtypes: float64(2), int64(5), object(9)\n",
      "memory usage: 3.0+ MB\n"
     ]
    }
   ],
   "source": [
    "df.info() "
   ]
  },
  {
   "cell_type": "markdown",
   "id": "9859831d",
   "metadata": {},
   "source": [
    "#### filling none values with unknown and not provided."
   ]
  },
  {
   "cell_type": "code",
   "execution_count": 154,
   "id": "6f1106ec",
   "metadata": {},
   "outputs": [
    {
     "data": {
      "text/plain": [
       "statuses_count        0\n",
       "created_at            0\n",
       "source                0\n",
       "original_text         0\n",
       "polarity              0\n",
       "subjectivity          0\n",
       "favorite_count        0\n",
       "retweet_count         0\n",
       "screen_name           0\n",
       "followers_count       0\n",
       "friends_count         0\n",
       "possibly_sensitive    0\n",
       "hashtags              0\n",
       "user_mentions         0\n",
       "location              0\n",
       "language              0\n",
       "dtype: int64"
      ]
     },
     "execution_count": 154,
     "metadata": {},
     "output_type": "execute_result"
    }
   ],
   "source": [
    "df = clean_tweets.fill_missing(df, \"location\", \"Not provided\")\n",
    "df = clean_tweets.fill_missing(df, \"possibly_sensitive\", \"unknown\")\n",
    "df.isna().sum()"
   ]
  },
  {
   "cell_type": "markdown",
   "id": "63109cc4",
   "metadata": {},
   "source": [
    "##### converting the creating at column to datetime"
   ]
  },
  {
   "cell_type": "code",
   "execution_count": 155,
   "id": "9cca01e2",
   "metadata": {},
   "outputs": [
    {
     "name": "stdout",
     "output_type": "stream",
     "text": [
      "<class 'pandas.core.frame.DataFrame'>\n",
      "RangeIndex: 24625 entries, 0 to 24624\n",
      "Data columns (total 16 columns):\n",
      " #   Column              Non-Null Count  Dtype              \n",
      "---  ------              --------------  -----              \n",
      " 0   statuses_count      24625 non-null  int64              \n",
      " 1   created_at          24625 non-null  datetime64[ns, UTC]\n",
      " 2   source              24625 non-null  object             \n",
      " 3   original_text       24625 non-null  object             \n",
      " 4   polarity            24625 non-null  float64            \n",
      " 5   subjectivity        24625 non-null  float64            \n",
      " 6   favorite_count      24625 non-null  int64              \n",
      " 7   retweet_count       24625 non-null  int64              \n",
      " 8   screen_name         24625 non-null  object             \n",
      " 9   followers_count     24625 non-null  int64              \n",
      " 10  friends_count       24625 non-null  int64              \n",
      " 11  possibly_sensitive  24625 non-null  object             \n",
      " 12  hashtags            24625 non-null  object             \n",
      " 13  user_mentions       24625 non-null  object             \n",
      " 14  location            24625 non-null  object             \n",
      " 15  language            24625 non-null  object             \n",
      "dtypes: datetime64[ns, UTC](1), float64(2), int64(5), object(8)\n",
      "memory usage: 3.0+ MB\n"
     ]
    }
   ],
   "source": [
    "df = clean_tweets.convert_to_datetime(df)\n",
    "df.info()"
   ]
  },
  {
   "cell_type": "markdown",
   "id": "1125acd7",
   "metadata": {},
   "source": [
    "##### Removing on english entrys for accuracy"
   ]
  },
  {
   "cell_type": "code",
   "execution_count": 175,
   "id": "0d4759ac",
   "metadata": {},
   "outputs": [
    {
     "data": {
      "text/plain": [
       "(16472, 16)"
      ]
     },
     "execution_count": 175,
     "metadata": {},
     "output_type": "execute_result"
    }
   ],
   "source": [
    "df = clean_tweets.remove_non_english_tweets(df)\n",
    "df.shape"
   ]
  },
  {
   "cell_type": "code",
   "execution_count": 162,
   "id": "1477744b",
   "metadata": {},
   "outputs": [
    {
     "name": "stdout",
     "output_type": "stream",
     "text": [
      "<class 'pandas.core.frame.DataFrame'>\n",
      "Int64Index: 16472 entries, 38 to 24622\n",
      "Data columns (total 16 columns):\n",
      " #   Column              Non-Null Count  Dtype              \n",
      "---  ------              --------------  -----              \n",
      " 0   statuses_count      16472 non-null  int64              \n",
      " 1   created_at          16472 non-null  datetime64[ns, UTC]\n",
      " 2   source              16472 non-null  object             \n",
      " 3   original_text       16472 non-null  object             \n",
      " 4   polarity            16472 non-null  float64            \n",
      " 5   subjectivity        16472 non-null  float64            \n",
      " 6   favorite_count      16472 non-null  int64              \n",
      " 7   retweet_count       16472 non-null  int64              \n",
      " 8   screen_name         16472 non-null  object             \n",
      " 9   followers_count     16472 non-null  int64              \n",
      " 10  friends_count       16472 non-null  int64              \n",
      " 11  possibly_sensitive  16472 non-null  object             \n",
      " 12  hashtags            16472 non-null  object             \n",
      " 13  user_mentions       16472 non-null  object             \n",
      " 14  location            16472 non-null  object             \n",
      " 15  language            16472 non-null  object             \n",
      "dtypes: datetime64[ns, UTC](1), float64(2), int64(5), object(8)\n",
      "memory usage: 2.1+ MB\n"
     ]
    }
   ],
   "source": [
    "df = clean_tweets.convert_to_numbers(df)\n",
    "df.info()"
   ]
  },
  {
   "cell_type": "markdown",
   "id": "0e89a9d5",
   "metadata": {},
   "source": [
    "# DATA EXPLORATION"
   ]
  },
  {
   "cell_type": "code",
   "execution_count": 164,
   "id": "fde6abeb",
   "metadata": {},
   "outputs": [
    {
     "data": {
      "text/plain": [
       "Twitter for Android    10804\n",
       "Twitter for iPhone      5375\n",
       "Twitter Web App         5114\n",
       "Twitter for iPad         597\n",
       "TweetDeck                270\n",
       "Name: source, dtype: int64"
      ]
     },
     "execution_count": 164,
     "metadata": {},
     "output_type": "execute_result"
    }
   ],
   "source": [
    "df[\"source\"] = df[\"source\"].apply(clean_tweets.extract_device_name)\n",
    "df[\"source\"].value_counts().head()"
   ]
  },
  {
   "cell_type": "code",
   "execution_count": 176,
   "id": "4d6c38c0",
   "metadata": {},
   "outputs": [],
   "source": [
    "#df.to_csv(\"C:\\\\Users\\\\dell\\\\Desktop\\\\Twitter-Data-Analysis\\\\processed_tweet_datax.csv\", index=False)"
   ]
  },
  {
   "cell_type": "markdown",
   "id": "40b8fa20",
   "metadata": {},
   "source": [
    "## Univariate Analysis using Pie Charts"
   ]
  },
  {
   "cell_type": "code",
   "execution_count": 165,
   "id": "caea8961",
   "metadata": {},
   "outputs": [
    {
     "data": {
      "text/html": [
       "<div>\n",
       "<style scoped>\n",
       "    .dataframe tbody tr th:only-of-type {\n",
       "        vertical-align: middle;\n",
       "    }\n",
       "\n",
       "    .dataframe tbody tr th {\n",
       "        vertical-align: top;\n",
       "    }\n",
       "\n",
       "    .dataframe thead th {\n",
       "        text-align: right;\n",
       "    }\n",
       "</style>\n",
       "<table border=\"1\" class=\"dataframe\">\n",
       "  <thead>\n",
       "    <tr style=\"text-align: right;\">\n",
       "      <th></th>\n",
       "      <th>statuses_count</th>\n",
       "      <th>polarity</th>\n",
       "      <th>subjectivity</th>\n",
       "      <th>favorite_count</th>\n",
       "      <th>retweet_count</th>\n",
       "      <th>followers_count</th>\n",
       "      <th>friends_count</th>\n",
       "    </tr>\n",
       "  </thead>\n",
       "  <tbody>\n",
       "    <tr>\n",
       "      <th>count</th>\n",
       "      <td>2.462500e+04</td>\n",
       "      <td>24625.000000</td>\n",
       "      <td>24625.000000</td>\n",
       "      <td>2.462500e+04</td>\n",
       "      <td>24625.000000</td>\n",
       "      <td>2.462500e+04</td>\n",
       "      <td>24625.000000</td>\n",
       "    </tr>\n",
       "    <tr>\n",
       "      <th>mean</th>\n",
       "      <td>5.030458e+04</td>\n",
       "      <td>0.059958</td>\n",
       "      <td>0.218877</td>\n",
       "      <td>2.595941e+03</td>\n",
       "      <td>538.587168</td>\n",
       "      <td>1.025754e+05</td>\n",
       "      <td>1299.831878</td>\n",
       "    </tr>\n",
       "    <tr>\n",
       "      <th>std</th>\n",
       "      <td>1.427207e+05</td>\n",
       "      <td>0.238632</td>\n",
       "      <td>0.302802</td>\n",
       "      <td>2.903256e+04</td>\n",
       "      <td>6045.417765</td>\n",
       "      <td>1.013419e+06</td>\n",
       "      <td>2939.129745</td>\n",
       "    </tr>\n",
       "    <tr>\n",
       "      <th>min</th>\n",
       "      <td>1.000000e+00</td>\n",
       "      <td>-1.000000</td>\n",
       "      <td>0.000000</td>\n",
       "      <td>0.000000e+00</td>\n",
       "      <td>0.000000</td>\n",
       "      <td>0.000000e+00</td>\n",
       "      <td>0.000000</td>\n",
       "    </tr>\n",
       "    <tr>\n",
       "      <th>25%</th>\n",
       "      <td>1.696000e+03</td>\n",
       "      <td>0.000000</td>\n",
       "      <td>0.000000</td>\n",
       "      <td>0.000000e+00</td>\n",
       "      <td>0.000000</td>\n",
       "      <td>1.130000e+02</td>\n",
       "      <td>111.000000</td>\n",
       "    </tr>\n",
       "    <tr>\n",
       "      <th>50%</th>\n",
       "      <td>9.354000e+03</td>\n",
       "      <td>0.000000</td>\n",
       "      <td>0.000000</td>\n",
       "      <td>1.000000e+00</td>\n",
       "      <td>1.000000</td>\n",
       "      <td>4.910000e+02</td>\n",
       "      <td>413.000000</td>\n",
       "    </tr>\n",
       "    <tr>\n",
       "      <th>75%</th>\n",
       "      <td>4.148800e+04</td>\n",
       "      <td>0.055556</td>\n",
       "      <td>0.447115</td>\n",
       "      <td>1.150000e+02</td>\n",
       "      <td>37.000000</td>\n",
       "      <td>1.935000e+03</td>\n",
       "      <td>1336.000000</td>\n",
       "    </tr>\n",
       "    <tr>\n",
       "      <th>max</th>\n",
       "      <td>2.307455e+06</td>\n",
       "      <td>1.000000</td>\n",
       "      <td>1.000000</td>\n",
       "      <td>1.339072e+06</td>\n",
       "      <td>434379.000000</td>\n",
       "      <td>1.695995e+07</td>\n",
       "      <td>41866.000000</td>\n",
       "    </tr>\n",
       "  </tbody>\n",
       "</table>\n",
       "</div>"
      ],
      "text/plain": [
       "       statuses_count      polarity  subjectivity  favorite_count  \\\n",
       "count    2.462500e+04  24625.000000  24625.000000    2.462500e+04   \n",
       "mean     5.030458e+04      0.059958      0.218877    2.595941e+03   \n",
       "std      1.427207e+05      0.238632      0.302802    2.903256e+04   \n",
       "min      1.000000e+00     -1.000000      0.000000    0.000000e+00   \n",
       "25%      1.696000e+03      0.000000      0.000000    0.000000e+00   \n",
       "50%      9.354000e+03      0.000000      0.000000    1.000000e+00   \n",
       "75%      4.148800e+04      0.055556      0.447115    1.150000e+02   \n",
       "max      2.307455e+06      1.000000      1.000000    1.339072e+06   \n",
       "\n",
       "       retweet_count  followers_count  friends_count  \n",
       "count   24625.000000     2.462500e+04   24625.000000  \n",
       "mean      538.587168     1.025754e+05    1299.831878  \n",
       "std      6045.417765     1.013419e+06    2939.129745  \n",
       "min         0.000000     0.000000e+00       0.000000  \n",
       "25%         0.000000     1.130000e+02     111.000000  \n",
       "50%         1.000000     4.910000e+02     413.000000  \n",
       "75%        37.000000     1.935000e+03    1336.000000  \n",
       "max    434379.000000     1.695995e+07   41866.000000  "
      ]
     },
     "execution_count": 165,
     "metadata": {},
     "output_type": "execute_result"
    }
   ],
   "source": [
    "df.describe()\n"
   ]
  },
  {
   "cell_type": "code",
   "execution_count": 166,
   "id": "045f7e97",
   "metadata": {},
   "outputs": [
    {
     "data": {
      "text/plain": [
       "PrabirpalBGM       50\n",
       "Richie_marvin67    50\n",
       "nolovekumbkaran    50\n",
       "HenzGang           50\n",
       "voakhmer           50\n",
       "                   ..\n",
       "ArchibaldBlume      7\n",
       "RulerDeadly         6\n",
       "electriccalcul1     2\n",
       "indrase41218989     1\n",
       "sarahtran1240       1\n",
       "Name: screen_name, Length: 500, dtype: int64"
      ]
     },
     "execution_count": 166,
     "metadata": {},
     "output_type": "execute_result"
    }
   ],
   "source": [
    "df.screen_name.value_counts()"
   ]
  },
  {
   "cell_type": "code",
   "execution_count": 167,
   "id": "1f6a2164",
   "metadata": {},
   "outputs": [
    {
     "data": {
      "image/png": "[encoded data removed]",
      "text/plain": [
       "<Figure size 432x288 with 1 Axes>"
      ]
     },
     "metadata": {},
     "output_type": "display_data"
    }
   ],
   "source": [
    "df.screen_name.value_counts().head(10).plot(kind=\"pie\");"
   ]
  },
  {
   "cell_type": "code",
   "execution_count": 168,
   "id": "49f419b6",
   "metadata": {},
   "outputs": [
    {
     "data": {
      "image/png": "[encoded data removed]",
      "text/plain": [
       "<Figure size 432x288 with 1 Axes>"
      ]
     },
     "metadata": {},
     "output_type": "display_data"
    }
   ],
   "source": [
    "df.screen_name.value_counts().head(5).plot(kind=\"pie\");"
   ]
  },
  {
   "cell_type": "markdown",
   "id": "de6015a7",
   "metadata": {},
   "source": [
    "#### The top tweeters have equivalent tweets. its equally distributed"
   ]
  },
  {
   "cell_type": "code",
   "execution_count": 169,
   "id": "afefd3a2",
   "metadata": {},
   "outputs": [
    {
     "data": {
      "text/plain": [
       "India                                   850\n",
       "Sri Lanka                               350\n",
       "United States                           300\n",
       "New Delhi                               300\n",
       "Hyderabad, India                        250\n",
       "                                       ... \n",
       "Germany, Hamburg                         50\n",
       "CA;FL ðºð² Patriot, Veteran ð§©     50\n",
       "South Carolina, USA                      50\n",
       "Deutschland                              50\n",
       "Gurgaon, Haryana                         50\n",
       "Name: location, Length: 234, dtype: int64"
      ]
     },
     "execution_count": 169,
     "metadata": {},
     "output_type": "execute_result"
    }
   ],
   "source": [
    "df.location.value_counts()"
   ]
  },
  {
   "cell_type": "code",
   "execution_count": 170,
   "id": "678b0a45",
   "metadata": {},
   "outputs": [
    {
     "data": {
      "image/png": "[encoded data removed]",
      "text/plain": [
       "<Figure size 432x288 with 1 Axes>"
      ]
     },
     "metadata": {},
     "output_type": "display_data"
    }
   ],
   "source": [
    "# top 5 locations of users\n",
    "top_locations = df.location.value_counts().head(5)\n",
    "top_locations.plot(kind=\"pie\", subplots=True, title=\"Top 5 locations of users\");"
   ]
  },
  {
   "cell_type": "markdown",
   "id": "1bccb4e3",
   "metadata": {},
   "source": [
    "#### This Pie chart tells us most locations are not provided. From the provided ones India has the most tweets about economic hardships"
   ]
  },
  {
   "cell_type": "code",
   "execution_count": 171,
   "id": "1a702dd3",
   "metadata": {},
   "outputs": [
    {
     "data": {
      "text/plain": [
       "Twitter for Android    10804\n",
       "Twitter for iPhone      5375\n",
       "Twitter Web App         5114\n",
       "Twitter for iPad         597\n",
       "TweetDeck                270\n",
       "Name: source, dtype: int64"
      ]
     },
     "execution_count": 171,
     "metadata": {},
     "output_type": "execute_result"
    }
   ],
   "source": [
    "df[\"source\"].value_counts().head(5)"
   ]
  },
  {
   "cell_type": "code",
   "execution_count": 4,
   "id": "d4e73733",
   "metadata": {},
   "outputs": [
    {
     "data": {
      "image/png": "[encoded data removed]",
      "text/plain": [
       "<Figure size 432x288 with 1 Axes>"
      ]
     },
     "metadata": {},
     "output_type": "display_data"
    }
   ],
   "source": [
    "df[\"source\"].value_counts().head(5).plot(kind=\"pie\");"
   ]
  },
  {
   "cell_type": "markdown",
   "id": "2854b876",
   "metadata": {},
   "source": [
    "#### This Shows us most authors use Android Phones and Iphone, almost 50% use android."
   ]
  },
  {
   "cell_type": "markdown",
   "id": "2dd05b54",
   "metadata": {},
   "source": [
    "## Bivariate Analysis"
   ]
  },
  {
   "cell_type": "code",
   "execution_count": 54,
   "id": "b8b2bb59",
   "metadata": {},
   "outputs": [
    {
     "data": {
      "text/plain": [
       "<matplotlib.collections.PathCollection at 0x1a710001b50>"
      ]
     },
     "execution_count": 54,
     "metadata": {},
     "output_type": "execute_result"
    },
    {
     "data": {
      "image/png": "[encoded data removed]",
      "text/plain": [
       "<Figure size 432x288 with 1 Axes>"
      ]
     },
     "metadata": {
      "needs_background": "light"
     },
     "output_type": "display_data"
    }
   ],
   "source": [
    "plt.scatter(df.retweet_count, df.favorite_count)"
   ]
  },
  {
   "cell_type": "markdown",
   "id": "8736967f",
   "metadata": {},
   "source": [
    "##### retweet count and favorite count have corelation"
   ]
  },
  {
   "cell_type": "code",
   "execution_count": 55,
   "id": "9d695f3c",
   "metadata": {},
   "outputs": [
    {
     "data": {
      "text/plain": [
       "<matplotlib.collections.PathCollection at 0x1a70e042130>"
      ]
     },
     "execution_count": 55,
     "metadata": {},
     "output_type": "execute_result"
    },
    {
     "data": {
      "image/png": "[encoded data removed]",
      "text/plain": [
       "<Figure size 432x288 with 1 Axes>"
      ]
     },
     "metadata": {
      "needs_background": "light"
     },
     "output_type": "display_data"
    }
   ],
   "source": [
    "plt.scatter(df.friends_count, df.favorite_count)"
   ]
  },
  {
   "cell_type": "markdown",
   "id": "0aea2a89",
   "metadata": {},
   "source": [
    "### More Univariate analysis using Histograms"
   ]
  },
  {
   "cell_type": "code",
   "execution_count": 24,
   "id": "ec7d8938",
   "metadata": {},
   "outputs": [
    {
     "data": {
      "text/plain": [
       "(array([  89.,  141.,  425.,  650., 1386., 9791., 1892., 1277.,  357.,\n",
       "         464.]),\n",
       " array([-1. , -0.8, -0.6, -0.4, -0.2,  0. ,  0.2,  0.4,  0.6,  0.8,  1. ]),\n",
       " <BarContainer object of 10 artists>)"
      ]
     },
     "execution_count": 24,
     "metadata": {},
     "output_type": "execute_result"
    },
    {
     "data": {
      "image/png": "[encoded data removed]",
      "text/plain": [
       "<Figure size 432x288 with 1 Axes>"
      ]
     },
     "metadata": {
      "needs_background": "light"
     },
     "output_type": "display_data"
    }
   ],
   "source": [
    "plt.hist(df['polarity'], bins=10)"
   ]
  },
  {
   "cell_type": "code",
   "execution_count": null,
   "id": "96327c80",
   "metadata": {},
   "outputs": [],
   "source": [
    "#### polarirty is evenly distributed so we can use the mean"
   ]
  },
  {
   "cell_type": "code",
   "execution_count": 25,
   "id": "f77dd603",
   "metadata": {},
   "outputs": [
    {
     "data": {
      "text/plain": [
       "(array([6503.,  770., 1519.,  975., 1346., 2355.,  841.,  531.,  393.,\n",
       "        1239.]),\n",
       " array([0. , 0.1, 0.2, 0.3, 0.4, 0.5, 0.6, 0.7, 0.8, 0.9, 1. ]),\n",
       " <BarContainer object of 10 artists>)"
      ]
     },
     "execution_count": 25,
     "metadata": {},
     "output_type": "execute_result"
    },
    {
     "data": {
      "image/png": "[encoded data removed]",
      "text/plain": [
       "<Figure size 432x288 with 1 Axes>"
      ]
     },
     "metadata": {
      "needs_background": "light"
     },
     "output_type": "display_data"
    }
   ],
   "source": [
    "plt.hist(df['subjectivity'], bins=10)"
   ]
  },
  {
   "cell_type": "markdown",
   "id": "3f371799",
   "metadata": {},
   "source": [
    "##### subjectivity is right skewed. its not evenly distributed. mean is greater than median. most are in the third quartile"
   ]
  },
  {
   "cell_type": "code",
   "execution_count": 27,
   "id": "0077e76c",
   "metadata": {},
   "outputs": [
    {
     "data": {
      "text/plain": [
       "38       [{'text': 'gold', 'indices': [116, 121]}, {'te...\n",
       "39                                                      []\n",
       "41                                                      []\n",
       "42                                                      []\n",
       "43                                                      []\n",
       "                               ...                        \n",
       "24584                                                   []\n",
       "24586                                                   []\n",
       "24596                                                   []\n",
       "24599                                                   []\n",
       "24622                                                   []\n",
       "Name: hashtags, Length: 16472, dtype: object"
      ]
     },
     "execution_count": 27,
     "metadata": {},
     "output_type": "execute_result"
    }
   ],
   "source": [
    "df['hashtags']"
   ]
  },
  {
   "cell_type": "code",
   "execution_count": 72,
   "id": "9a78f219",
   "metadata": {},
   "outputs": [
    {
     "data": {
      "text/plain": [
       "<matplotlib.collections.PathCollection at 0x1a71e19cd00>"
      ]
     },
     "execution_count": 72,
     "metadata": {},
     "output_type": "execute_result"
    },
    {
     "data": {
      "image/png": "[encoded data removed]",
      "text/plain": [
       "<Figure size 432x288 with 1 Axes>"
      ]
     },
     "metadata": {
      "needs_background": "light"
     },
     "output_type": "display_data"
    }
   ],
   "source": [
    "plt.scatter(df.friends_count, df.retweet_count)"
   ]
  },
  {
   "cell_type": "code",
   "execution_count": 146,
   "id": "cf459797",
   "metadata": {},
   "outputs": [],
   "source": [
    "### Advanced Univariate Analysis"
   ]
  },
  {
   "cell_type": "code",
   "execution_count": 145,
   "id": "08dd630e",
   "metadata": {},
   "outputs": [
    {
     "data": {
      "text/plain": [
       "[<matplotlib.lines.Line2D at 0x1a71ddd7580>]"
      ]
     },
     "execution_count": 145,
     "metadata": {},
     "output_type": "execute_result"
    },
    {
     "data": {
      "image/png": "[encoded data removed]",
      "text/plain": [
       "<Figure size 432x288 with 1 Axes>"
      ]
     },
     "metadata": {
      "needs_background": "light"
     },
     "output_type": "display_data"
    }
   ],
   "source": [
    "df_india = df.loc[df['location'] == 'india']\n",
    "df_uniteds = df.loc[df['location'] == 'United States']\n",
    "df_srilanka = df.loc[df['location'] == 'Sri Lanka']\n",
    "df_london = df.loc[df['location'] == 'London, England']\n",
    "\n",
    "plt.plot(df_uniteds['statuses_count'], np.zeros_like(df_uniteds['statuses_count']))\n",
    "#plt.plot(df_london['statuses_count'], np.zeros_like(df_london['statuses_count']))\n",
    "plt.plot(df_srilanka['statuses_count'], np.zeros_like(df_srilanka['statuses_count']))"
   ]
  },
  {
   "cell_type": "code",
   "execution_count": 144,
   "id": "02d61a69",
   "metadata": {},
   "outputs": [
    {
     "data": {
      "text/plain": [
       "[<matplotlib.lines.Line2D at 0x1a71dc69ee0>]"
      ]
     },
     "execution_count": 144,
     "metadata": {},
     "output_type": "execute_result"
    },
    {
     "data": {
      "image/png": "[encoded data removed]",
      "text/plain": [
       "<Figure size 432x288 with 1 Axes>"
      ]
     },
     "metadata": {
      "needs_background": "light"
     },
     "output_type": "display_data"
    }
   ],
   "source": [
    "plt.plot(df_uniteds['statuses_count'], np.zeros_like(df_uniteds['statuses_count']))\n",
    "plt.plot(df_london['statuses_count'], np.zeros_like(df_london['statuses_count']))"
   ]
  },
  {
   "cell_type": "code",
   "execution_count": 5,
   "id": "02bc2b13",
   "metadata": {},
   "outputs": [],
   "source": [
    "#I have realized that america has the most number of status count on this univariate analysis "
   ]
  }
 ],
 "metadata": {
  "kernelspec": {
   "display_name": "Python 3.10.4 64-bit",
   "language": "python",
   "name": "python3"
  },
  "language_info": {
   "codemirror_mode": {
    "name": "ipython",
    "version": 3
   },
   "file_extension": ".py",
   "mimetype": "text/x-python",
   "name": "python",
   "nbconvert_exporter": "python",
   "pygments_lexer": "ipython3",
   "version": "3.10.4"
  },
  "vscode": {
   "interpreter": {
    "hash": "916dbcbb3f70747c44a77c7bcd40155683ae19c65e1c03b4aa3499c5328201f1"
   }
  }
 },
 "nbformat": 4,
 "nbformat_minor": 5
}
