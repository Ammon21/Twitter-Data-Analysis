{
 "cells": [
  {
   "cell_type": "markdown",
   "id": "fc476c49",
   "metadata": {},
   "source": [
    "\n",
    "# Data Explanatory & Pre processing\n"
   ]
  },
  {
   "cell_type": "code",
   "execution_count": 5,
   "id": "347e7622",
   "metadata": {},
   "outputs": [
    {
     "data": {
      "text/html": [
       "<div>\n",
       "<style scoped>\n",
       "    .dataframe tbody tr th:only-of-type {\n",
       "        vertical-align: middle;\n",
       "    }\n",
       "\n",
       "    .dataframe tbody tr th {\n",
       "        vertical-align: top;\n",
       "    }\n",
       "\n",
       "    .dataframe thead th {\n",
       "        text-align: right;\n",
       "    }\n",
       "</style>\n",
       "<table border=\"1\" class=\"dataframe\">\n",
       "  <thead>\n",
       "    <tr style=\"text-align: right;\">\n",
       "      <th></th>\n",
       "      <th>statuses_count</th>\n",
       "      <th>created_at</th>\n",
       "      <th>source</th>\n",
       "      <th>original_text</th>\n",
       "      <th>polarity</th>\n",
       "      <th>subjectivity</th>\n",
       "      <th>favorite_count</th>\n",
       "      <th>retweet_count</th>\n",
       "      <th>screen_name</th>\n",
       "      <th>followers_count</th>\n",
       "      <th>friends_count</th>\n",
       "      <th>possibly_sensitive</th>\n",
       "      <th>hashtags</th>\n",
       "      <th>user_mentions</th>\n",
       "      <th>location</th>\n",
       "      <th>language</th>\n",
       "    </tr>\n",
       "  </thead>\n",
       "  <tbody>\n",
       "    <tr>\n",
       "      <th>0</th>\n",
       "      <td>40</td>\n",
       "      <td>Fri Apr 22 22:20:18 +0000 2022</td>\n",
       "      <td>&lt;a href=\"http://twitter.com/download/android\" ...</td>\n",
       "      <td>RT @nikitheblogger: Irre: Annalena Baerbock sa...</td>\n",
       "      <td>0.0</td>\n",
       "      <td>0.0</td>\n",
       "      <td>2356</td>\n",
       "      <td>355</td>\n",
       "      <td>McMc74078966</td>\n",
       "      <td>3</td>\n",
       "      <td>12</td>\n",
       "      <td>NaN</td>\n",
       "      <td>[]</td>\n",
       "      <td>[{'screen_name': 'nikitheblogger', 'name': 'Ne...</td>\n",
       "      <td>NaN</td>\n",
       "      <td>de</td>\n",
       "    </tr>\n",
       "    <tr>\n",
       "      <th>1</th>\n",
       "      <td>40</td>\n",
       "      <td>Fri Apr 22 22:19:16 +0000 2022</td>\n",
       "      <td>&lt;a href=\"http://twitter.com/download/android\" ...</td>\n",
       "      <td>RT @sagt_mit: Merkel schaffte es in 1 Jahr 1 M...</td>\n",
       "      <td>0.0</td>\n",
       "      <td>0.0</td>\n",
       "      <td>1985</td>\n",
       "      <td>505</td>\n",
       "      <td>McMc74078966</td>\n",
       "      <td>3</td>\n",
       "      <td>12</td>\n",
       "      <td>NaN</td>\n",
       "      <td>[]</td>\n",
       "      <td>[{'screen_name': 'sagt_mit', 'name': 'Sie sagt...</td>\n",
       "      <td>NaN</td>\n",
       "      <td>de</td>\n",
       "    </tr>\n",
       "    <tr>\n",
       "      <th>2</th>\n",
       "      <td>40</td>\n",
       "      <td>Fri Apr 22 22:17:28 +0000 2022</td>\n",
       "      <td>&lt;a href=\"http://twitter.com/download/android\" ...</td>\n",
       "      <td>RT @Kryptonoun: @WRi007 Pharma in Lebensmittel...</td>\n",
       "      <td>0.0</td>\n",
       "      <td>0.0</td>\n",
       "      <td>16</td>\n",
       "      <td>4</td>\n",
       "      <td>McMc74078966</td>\n",
       "      <td>3</td>\n",
       "      <td>12</td>\n",
       "      <td>NaN</td>\n",
       "      <td>[]</td>\n",
       "      <td>[{'screen_name': 'Kryptonoun', 'name': 'Krypto...</td>\n",
       "      <td>NaN</td>\n",
       "      <td>de</td>\n",
       "    </tr>\n",
       "    <tr>\n",
       "      <th>3</th>\n",
       "      <td>40</td>\n",
       "      <td>Fri Apr 22 22:17:20 +0000 2022</td>\n",
       "      <td>&lt;a href=\"http://twitter.com/download/android\" ...</td>\n",
       "      <td>RT @WRi007: Die #Deutschen sind ein braves Vol...</td>\n",
       "      <td>0.0</td>\n",
       "      <td>0.0</td>\n",
       "      <td>1242</td>\n",
       "      <td>332</td>\n",
       "      <td>McMc74078966</td>\n",
       "      <td>3</td>\n",
       "      <td>12</td>\n",
       "      <td>NaN</td>\n",
       "      <td>[{'text': 'Deutschen', 'indices': [16, 26]}, {...</td>\n",
       "      <td>[{'screen_name': 'WRi007', 'name': 'Wolfgang B...</td>\n",
       "      <td>NaN</td>\n",
       "      <td>de</td>\n",
       "    </tr>\n",
       "    <tr>\n",
       "      <th>4</th>\n",
       "      <td>40</td>\n",
       "      <td>Fri Apr 22 22:13:15 +0000 2022</td>\n",
       "      <td>&lt;a href=\"http://twitter.com/download/android\" ...</td>\n",
       "      <td>RT @RolandTichy: Baerbock verkÃ¼ndet mal so ne...</td>\n",
       "      <td>0.0</td>\n",
       "      <td>0.0</td>\n",
       "      <td>1329</td>\n",
       "      <td>386</td>\n",
       "      <td>McMc74078966</td>\n",
       "      <td>3</td>\n",
       "      <td>12</td>\n",
       "      <td>NaN</td>\n",
       "      <td>[]</td>\n",
       "      <td>[{'screen_name': 'RolandTichy', 'name': 'Rolan...</td>\n",
       "      <td>NaN</td>\n",
       "      <td>de</td>\n",
       "    </tr>\n",
       "  </tbody>\n",
       "</table>\n",
       "</div>"
      ],
      "text/plain": [
       "   statuses_count                      created_at  \\\n",
       "0              40  Fri Apr 22 22:20:18 +0000 2022   \n",
       "1              40  Fri Apr 22 22:19:16 +0000 2022   \n",
       "2              40  Fri Apr 22 22:17:28 +0000 2022   \n",
       "3              40  Fri Apr 22 22:17:20 +0000 2022   \n",
       "4              40  Fri Apr 22 22:13:15 +0000 2022   \n",
       "\n",
       "                                              source  \\\n",
       "0  <a href=\"http://twitter.com/download/android\" ...   \n",
       "1  <a href=\"http://twitter.com/download/android\" ...   \n",
       "2  <a href=\"http://twitter.com/download/android\" ...   \n",
       "3  <a href=\"http://twitter.com/download/android\" ...   \n",
       "4  <a href=\"http://twitter.com/download/android\" ...   \n",
       "\n",
       "                                       original_text  polarity  subjectivity  \\\n",
       "0  RT @nikitheblogger: Irre: Annalena Baerbock sa...       0.0           0.0   \n",
       "1  RT @sagt_mit: Merkel schaffte es in 1 Jahr 1 M...       0.0           0.0   \n",
       "2  RT @Kryptonoun: @WRi007 Pharma in Lebensmittel...       0.0           0.0   \n",
       "3  RT @WRi007: Die #Deutschen sind ein braves Vol...       0.0           0.0   \n",
       "4  RT @RolandTichy: Baerbock verkÃ¼ndet mal so ne...       0.0           0.0   \n",
       "\n",
       "   favorite_count  retweet_count   screen_name  followers_count  \\\n",
       "0            2356            355  McMc74078966                3   \n",
       "1            1985            505  McMc74078966                3   \n",
       "2              16              4  McMc74078966                3   \n",
       "3            1242            332  McMc74078966                3   \n",
       "4            1329            386  McMc74078966                3   \n",
       "\n",
       "   friends_count possibly_sensitive  \\\n",
       "0             12                NaN   \n",
       "1             12                NaN   \n",
       "2             12                NaN   \n",
       "3             12                NaN   \n",
       "4             12                NaN   \n",
       "\n",
       "                                            hashtags  \\\n",
       "0                                                 []   \n",
       "1                                                 []   \n",
       "2                                                 []   \n",
       "3  [{'text': 'Deutschen', 'indices': [16, 26]}, {...   \n",
       "4                                                 []   \n",
       "\n",
       "                                       user_mentions location language  \n",
       "0  [{'screen_name': 'nikitheblogger', 'name': 'Ne...      NaN       de  \n",
       "1  [{'screen_name': 'sagt_mit', 'name': 'Sie sagt...      NaN       de  \n",
       "2  [{'screen_name': 'Kryptonoun', 'name': 'Krypto...      NaN       de  \n",
       "3  [{'screen_name': 'WRi007', 'name': 'Wolfgang B...      NaN       de  \n",
       "4  [{'screen_name': 'RolandTichy', 'name': 'Rolan...      NaN       de  "
      ]
     },
     "execution_count": 5,
     "metadata": {},
     "output_type": "execute_result"
    }
   ],
   "source": [
    "import pandas as pd\n",
    "import matplotlib. pyplot as plt\n",
    "import clean_tweets_dataframe\n",
    "import numpy as np\n",
    "import seaborn as sns\n",
    "\n",
    "df = pd.read_csv('C:\\\\Users\\\\dell\\\\Desktop\\\\Twitter-Data-Analysis\\\\processed_tweet_data.csv', encoding='latin-1')\n",
    "\n",
    "df.head()"
   ]
  },
  {
   "cell_type": "markdown",
   "id": "b9ba146a",
   "metadata": {},
   "source": [
    "##### knowing the data types of the variable"
   ]
  },
  {
   "cell_type": "code",
   "execution_count": 6,
   "id": "226ac5a9",
   "metadata": {},
   "outputs": [
    {
     "name": "stdout",
     "output_type": "stream",
     "text": [
      "<class 'pandas.core.frame.DataFrame'>\n",
      "RangeIndex: 24625 entries, 0 to 24624\n",
      "Data columns (total 16 columns):\n",
      " #   Column              Non-Null Count  Dtype  \n",
      "---  ------              --------------  -----  \n",
      " 0   statuses_count      24625 non-null  int64  \n",
      " 1   created_at          24625 non-null  object \n",
      " 2   source              24625 non-null  object \n",
      " 3   original_text       24625 non-null  object \n",
      " 4   polarity            24625 non-null  float64\n",
      " 5   subjectivity        24625 non-null  float64\n",
      " 6   favorite_count      24625 non-null  int64  \n",
      " 7   retweet_count       24625 non-null  int64  \n",
      " 8   screen_name         24625 non-null  object \n",
      " 9   followers_count     24625 non-null  int64  \n",
      " 10  friends_count       24625 non-null  int64  \n",
      " 11  possibly_sensitive  9975 non-null   object \n",
      " 12  hashtags            24625 non-null  object \n",
      " 13  user_mentions       24625 non-null  object \n",
      " 14  location            15731 non-null  object \n",
      " 15  language            24625 non-null  object \n",
      "dtypes: float64(2), int64(5), object(9)\n",
      "memory usage: 3.0+ MB\n",
      "None\n"
     ]
    }
   ],
   "source": [
    "print(df.info())"
   ]
  },
  {
   "cell_type": "markdown",
   "id": "d388eabb",
   "metadata": {},
   "source": [
    "##### To know how many columns(variables) and rows(expierments)"
   ]
  },
  {
   "cell_type": "code",
   "execution_count": 7,
   "id": "49d8744a",
   "metadata": {},
   "outputs": [
    {
     "data": {
      "text/plain": [
       "(24625, 16)"
      ]
     },
     "execution_count": 7,
     "metadata": {},
     "output_type": "execute_result"
    }
   ],
   "source": [
    "df.shape"
   ]
  },
  {
   "cell_type": "markdown",
   "id": "a385ab54",
   "metadata": {},
   "source": [
    "##### To Know Total amounts of null values"
   ]
  },
  {
   "cell_type": "code",
   "execution_count": 8,
   "id": "0d59df1b",
   "metadata": {},
   "outputs": [
    {
     "data": {
      "text/plain": [
       "statuses_count            0\n",
       "created_at                0\n",
       "source                    0\n",
       "original_text             0\n",
       "polarity                  0\n",
       "subjectivity              0\n",
       "favorite_count            0\n",
       "retweet_count             0\n",
       "screen_name               0\n",
       "followers_count           0\n",
       "friends_count             0\n",
       "possibly_sensitive    14650\n",
       "hashtags                  0\n",
       "user_mentions             0\n",
       "location               8894\n",
       "language                  0\n",
       "dtype: int64"
      ]
     },
     "execution_count": 8,
     "metadata": {},
     "output_type": "execute_result"
    }
   ],
   "source": [
    "df.isna().sum()"
   ]
  },
  {
   "cell_type": "markdown",
   "id": "4c2077f5",
   "metadata": {},
   "source": [
    "#### Removing Duplicates"
   ]
  },
  {
   "cell_type": "code",
   "execution_count": 9,
   "id": "a2192a4a",
   "metadata": {},
   "outputs": [
    {
     "name": "stdout",
     "output_type": "stream",
     "text": [
      "Automation in Action...!!!\n"
     ]
    }
   ],
   "source": [
    "from clean_tweets_dataframe import Clean_Tweets\n",
    "clean_tweets = Clean_Tweets(df)\n",
    "\n"
   ]
  },
  {
   "cell_type": "code",
   "execution_count": 10,
   "id": "d96d4179",
   "metadata": {},
   "outputs": [
    {
     "data": {
      "text/plain": [
       "(24625, 16)"
      ]
     },
     "execution_count": 10,
     "metadata": {},
     "output_type": "execute_result"
    }
   ],
   "source": [
    "clean_tweets.drop_duplicate(df)\n",
    "df.shape"
   ]
  },
  {
   "cell_type": "markdown",
   "id": "8711ba21",
   "metadata": {},
   "source": [
    "##### No Duplicate Values"
   ]
  },
  {
   "cell_type": "code",
   "execution_count": 11,
   "id": "a0d4300a",
   "metadata": {},
   "outputs": [
    {
     "name": "stdout",
     "output_type": "stream",
     "text": [
      "<class 'pandas.core.frame.DataFrame'>\n",
      "RangeIndex: 24625 entries, 0 to 24624\n",
      "Data columns (total 16 columns):\n",
      " #   Column              Non-Null Count  Dtype  \n",
      "---  ------              --------------  -----  \n",
      " 0   statuses_count      24625 non-null  int64  \n",
      " 1   created_at          24625 non-null  object \n",
      " 2   source              24625 non-null  object \n",
      " 3   original_text       24625 non-null  object \n",
      " 4   polarity            24625 non-null  float64\n",
      " 5   subjectivity        24625 non-null  float64\n",
      " 6   favorite_count      24625 non-null  int64  \n",
      " 7   retweet_count       24625 non-null  int64  \n",
      " 8   screen_name         24625 non-null  object \n",
      " 9   followers_count     24625 non-null  int64  \n",
      " 10  friends_count       24625 non-null  int64  \n",
      " 11  possibly_sensitive  9975 non-null   object \n",
      " 12  hashtags            24625 non-null  object \n",
      " 13  user_mentions       24625 non-null  object \n",
      " 14  location            15731 non-null  object \n",
      " 15  language            24625 non-null  object \n",
      "dtypes: float64(2), int64(5), object(9)\n",
      "memory usage: 3.0+ MB\n"
     ]
    }
   ],
   "source": [
    "df.info() "
   ]
  },
  {
   "cell_type": "markdown",
   "id": "9859831d",
   "metadata": {},
   "source": [
    "#### filling none values with unknown and not provided."
   ]
  },
  {
   "cell_type": "code",
   "execution_count": 12,
   "id": "6f1106ec",
   "metadata": {},
   "outputs": [
    {
     "data": {
      "text/plain": [
       "statuses_count        0\n",
       "created_at            0\n",
       "source                0\n",
       "original_text         0\n",
       "polarity              0\n",
       "subjectivity          0\n",
       "favorite_count        0\n",
       "retweet_count         0\n",
       "screen_name           0\n",
       "followers_count       0\n",
       "friends_count         0\n",
       "possibly_sensitive    0\n",
       "hashtags              0\n",
       "user_mentions         0\n",
       "location              0\n",
       "language              0\n",
       "dtype: int64"
      ]
     },
     "execution_count": 12,
     "metadata": {},
     "output_type": "execute_result"
    }
   ],
   "source": [
    "df = clean_tweets.fill_missing(df, \"location\", \"Not provided\")\n",
    "df = clean_tweets.fill_missing(df, \"possibly_sensitive\", \"unknown\")\n",
    "df.isna().sum()"
   ]
  },
  {
   "cell_type": "markdown",
   "id": "63109cc4",
   "metadata": {},
   "source": [
    "##### converting the creating at column to datetime"
   ]
  },
  {
   "cell_type": "code",
   "execution_count": 14,
   "id": "9cca01e2",
   "metadata": {},
   "outputs": [
    {
     "name": "stdout",
     "output_type": "stream",
     "text": [
      "<class 'pandas.core.frame.DataFrame'>\n",
      "RangeIndex: 24625 entries, 0 to 24624\n",
      "Data columns (total 16 columns):\n",
      " #   Column              Non-Null Count  Dtype              \n",
      "---  ------              --------------  -----              \n",
      " 0   statuses_count      24625 non-null  int64              \n",
      " 1   created_at          24625 non-null  datetime64[ns, UTC]\n",
      " 2   source              24625 non-null  object             \n",
      " 3   original_text       24625 non-null  object             \n",
      " 4   polarity            24625 non-null  float64            \n",
      " 5   subjectivity        24625 non-null  float64            \n",
      " 6   favorite_count      24625 non-null  int64              \n",
      " 7   retweet_count       24625 non-null  int64              \n",
      " 8   screen_name         24625 non-null  object             \n",
      " 9   followers_count     24625 non-null  int64              \n",
      " 10  friends_count       24625 non-null  int64              \n",
      " 11  possibly_sensitive  24625 non-null  object             \n",
      " 12  hashtags            24625 non-null  object             \n",
      " 13  user_mentions       24625 non-null  object             \n",
      " 14  location            24625 non-null  object             \n",
      " 15  language            24625 non-null  object             \n",
      "dtypes: datetime64[ns, UTC](1), float64(2), int64(5), object(8)\n",
      "memory usage: 3.0+ MB\n"
     ]
    }
   ],
   "source": [
    "df = clean_tweets.convert_to_datetime(df)\n",
    "df.info()"
   ]
  },
  {
   "cell_type": "markdown",
   "id": "1125acd7",
   "metadata": {},
   "source": [
    "##### Removing on english entrys for accuracy"
   ]
  },
  {
   "cell_type": "code",
   "execution_count": 15,
   "id": "0d4759ac",
   "metadata": {},
   "outputs": [
    {
     "data": {
      "text/plain": [
       "(16472, 16)"
      ]
     },
     "execution_count": 15,
     "metadata": {},
     "output_type": "execute_result"
    }
   ],
   "source": [
    "df = clean_tweets.remove_non_english_tweets(df)\n",
    "df.shape"
   ]
  },
  {
   "cell_type": "code",
   "execution_count": 162,
   "id": "1477744b",
   "metadata": {},
   "outputs": [
    {
     "name": "stdout",
     "output_type": "stream",
     "text": [
      "<class 'pandas.core.frame.DataFrame'>\n",
      "Int64Index: 16472 entries, 38 to 24622\n",
      "Data columns (total 16 columns):\n",
      " #   Column              Non-Null Count  Dtype              \n",
      "---  ------              --------------  -----              \n",
      " 0   statuses_count      16472 non-null  int64              \n",
      " 1   created_at          16472 non-null  datetime64[ns, UTC]\n",
      " 2   source              16472 non-null  object             \n",
      " 3   original_text       16472 non-null  object             \n",
      " 4   polarity            16472 non-null  float64            \n",
      " 5   subjectivity        16472 non-null  float64            \n",
      " 6   favorite_count      16472 non-null  int64              \n",
      " 7   retweet_count       16472 non-null  int64              \n",
      " 8   screen_name         16472 non-null  object             \n",
      " 9   followers_count     16472 non-null  int64              \n",
      " 10  friends_count       16472 non-null  int64              \n",
      " 11  possibly_sensitive  16472 non-null  object             \n",
      " 12  hashtags            16472 non-null  object             \n",
      " 13  user_mentions       16472 non-null  object             \n",
      " 14  location            16472 non-null  object             \n",
      " 15  language            16472 non-null  object             \n",
      "dtypes: datetime64[ns, UTC](1), float64(2), int64(5), object(8)\n",
      "memory usage: 2.1+ MB\n"
     ]
    }
   ],
   "source": [
    "df = clean_tweets.convert_to_numbers(df)\n",
    "df.info()"
   ]
  },
  {
   "cell_type": "markdown",
   "id": "0e89a9d5",
   "metadata": {},
   "source": [
    "# DATA EXPLORATION"
   ]
  },
  {
   "cell_type": "code",
   "execution_count": 16,
   "id": "fde6abeb",
   "metadata": {},
   "outputs": [
    {
     "data": {
      "text/plain": [
       "Twitter for Android    6170\n",
       "Twitter for iPhone     4481\n",
       "Twitter Web App        3436\n",
       "Twitter for iPad        539\n",
       "TweetDeck               186\n",
       "Name: source, dtype: int64"
      ]
     },
     "execution_count": 16,
     "metadata": {},
     "output_type": "execute_result"
    }
   ],
   "source": [
    "df[\"source\"] = df[\"source\"].apply(clean_tweets.extract_device_name)\n",
    "df[\"source\"].value_counts().head()"
   ]
  },
  {
   "cell_type": "code",
   "execution_count": 17,
   "id": "4d6c38c0",
   "metadata": {},
   "outputs": [],
   "source": [
    "df.to_csv(\"C:\\\\Users\\\\dell\\\\Desktop\\\\Twitter-Data-Analysis\\\\processed_tweet_datax.csv\", index=False)"
   ]
  },
  {
   "cell_type": "markdown",
   "id": "40b8fa20",
   "metadata": {},
   "source": [
    "## Univariate Analysis using Pie Charts"
   ]
  },
  {
   "cell_type": "code",
   "execution_count": 18,
   "id": "caea8961",
   "metadata": {},
   "outputs": [
    {
     "data": {
      "text/html": [
       "<div>\n",
       "<style scoped>\n",
       "    .dataframe tbody tr th:only-of-type {\n",
       "        vertical-align: middle;\n",
       "    }\n",
       "\n",
       "    .dataframe tbody tr th {\n",
       "        vertical-align: top;\n",
       "    }\n",
       "\n",
       "    .dataframe thead th {\n",
       "        text-align: right;\n",
       "    }\n",
       "</style>\n",
       "<table border=\"1\" class=\"dataframe\">\n",
       "  <thead>\n",
       "    <tr style=\"text-align: right;\">\n",
       "      <th></th>\n",
       "      <th>statuses_count</th>\n",
       "      <th>polarity</th>\n",
       "      <th>subjectivity</th>\n",
       "      <th>favorite_count</th>\n",
       "      <th>retweet_count</th>\n",
       "      <th>followers_count</th>\n",
       "      <th>friends_count</th>\n",
       "    </tr>\n",
       "  </thead>\n",
       "  <tbody>\n",
       "    <tr>\n",
       "      <th>count</th>\n",
       "      <td>1.647200e+04</td>\n",
       "      <td>16472.000000</td>\n",
       "      <td>16472.000000</td>\n",
       "      <td>1.647200e+04</td>\n",
       "      <td>16472.000000</td>\n",
       "      <td>1.647200e+04</td>\n",
       "      <td>16472.000000</td>\n",
       "    </tr>\n",
       "    <tr>\n",
       "      <th>mean</th>\n",
       "      <td>4.476701e+04</td>\n",
       "      <td>0.088526</td>\n",
       "      <td>0.313992</td>\n",
       "      <td>3.176589e+03</td>\n",
       "      <td>622.637142</td>\n",
       "      <td>5.327892e+04</td>\n",
       "      <td>1339.298567</td>\n",
       "    </tr>\n",
       "    <tr>\n",
       "      <th>std</th>\n",
       "      <td>1.469962e+05</td>\n",
       "      <td>0.279722</td>\n",
       "      <td>0.316429</td>\n",
       "      <td>3.363174e+04</td>\n",
       "      <td>7083.390400</td>\n",
       "      <td>4.315926e+05</td>\n",
       "      <td>2970.206218</td>\n",
       "    </tr>\n",
       "    <tr>\n",
       "      <th>min</th>\n",
       "      <td>1.000000e+00</td>\n",
       "      <td>-1.000000</td>\n",
       "      <td>0.000000</td>\n",
       "      <td>0.000000e+00</td>\n",
       "      <td>0.000000</td>\n",
       "      <td>0.000000e+00</td>\n",
       "      <td>0.000000</td>\n",
       "    </tr>\n",
       "    <tr>\n",
       "      <th>25%</th>\n",
       "      <td>1.529000e+03</td>\n",
       "      <td>0.000000</td>\n",
       "      <td>0.000000</td>\n",
       "      <td>0.000000e+00</td>\n",
       "      <td>0.000000</td>\n",
       "      <td>1.120000e+02</td>\n",
       "      <td>113.000000</td>\n",
       "    </tr>\n",
       "    <tr>\n",
       "      <th>50%</th>\n",
       "      <td>7.300000e+03</td>\n",
       "      <td>0.000000</td>\n",
       "      <td>0.288889</td>\n",
       "      <td>0.000000e+00</td>\n",
       "      <td>0.000000</td>\n",
       "      <td>5.370000e+02</td>\n",
       "      <td>433.000000</td>\n",
       "    </tr>\n",
       "    <tr>\n",
       "      <th>75%</th>\n",
       "      <td>3.153200e+04</td>\n",
       "      <td>0.200000</td>\n",
       "      <td>0.527778</td>\n",
       "      <td>1.140000e+02</td>\n",
       "      <td>31.250000</td>\n",
       "      <td>2.131000e+03</td>\n",
       "      <td>1433.000000</td>\n",
       "    </tr>\n",
       "    <tr>\n",
       "      <th>max</th>\n",
       "      <td>2.307455e+06</td>\n",
       "      <td>1.000000</td>\n",
       "      <td>1.000000</td>\n",
       "      <td>1.339072e+06</td>\n",
       "      <td>434379.000000</td>\n",
       "      <td>6.027402e+06</td>\n",
       "      <td>41866.000000</td>\n",
       "    </tr>\n",
       "  </tbody>\n",
       "</table>\n",
       "</div>"
      ],
      "text/plain": [
       "       statuses_count      polarity  subjectivity  favorite_count  \\\n",
       "count    1.647200e+04  16472.000000  16472.000000    1.647200e+04   \n",
       "mean     4.476701e+04      0.088526      0.313992    3.176589e+03   \n",
       "std      1.469962e+05      0.279722      0.316429    3.363174e+04   \n",
       "min      1.000000e+00     -1.000000      0.000000    0.000000e+00   \n",
       "25%      1.529000e+03      0.000000      0.000000    0.000000e+00   \n",
       "50%      7.300000e+03      0.000000      0.288889    0.000000e+00   \n",
       "75%      3.153200e+04      0.200000      0.527778    1.140000e+02   \n",
       "max      2.307455e+06      1.000000      1.000000    1.339072e+06   \n",
       "\n",
       "       retweet_count  followers_count  friends_count  \n",
       "count   16472.000000     1.647200e+04   16472.000000  \n",
       "mean      622.637142     5.327892e+04    1339.298567  \n",
       "std      7083.390400     4.315926e+05    2970.206218  \n",
       "min         0.000000     0.000000e+00       0.000000  \n",
       "25%         0.000000     1.120000e+02     113.000000  \n",
       "50%         0.000000     5.370000e+02     433.000000  \n",
       "75%        31.250000     2.131000e+03    1433.000000  \n",
       "max    434379.000000     6.027402e+06   41866.000000  "
      ]
     },
     "execution_count": 18,
     "metadata": {},
     "output_type": "execute_result"
    }
   ],
   "source": [
    "df.describe()\n"
   ]
  },
  {
   "cell_type": "code",
   "execution_count": 19,
   "id": "045f7e97",
   "metadata": {},
   "outputs": [
    {
     "data": {
      "text/plain": [
       "john_jay31         50\n",
       "artofkaizen        50\n",
       "allindiatweet      50\n",
       "Stansberry         50\n",
       "MirrorNow          50\n",
       "                   ..\n",
       "eliceami            1\n",
       "NeueARD_Forum       1\n",
       "TamilsToday         1\n",
       "news7tamil          1\n",
       "MRSAURA36336587     1\n",
       "Name: screen_name, Length: 464, dtype: int64"
      ]
     },
     "execution_count": 19,
     "metadata": {},
     "output_type": "execute_result"
    }
   ],
   "source": [
    "df.screen_name.value_counts()"
   ]
  },
  {
   "cell_type": "code",
   "execution_count": 20,
   "id": "1f6a2164",
   "metadata": {},
   "outputs": [
    {
     "data": {
      "image/png": "[encoded data removed]",
      "text/plain": [
       "<Figure size 432x288 with 1 Axes>"
      ]
     },
     "metadata": {},
     "output_type": "display_data"
    }
   ],
   "source": [
    "df.screen_name.value_counts().head(10).plot(kind=\"pie\");"
   ]
  },
  {
   "cell_type": "code",
   "execution_count": 21,
   "id": "49f419b6",
   "metadata": {},
   "outputs": [
    {
     "data": {
      "image/png": "[encoded data removed]",
      "text/plain": [
       "<Figure size 432x288 with 1 Axes>"
      ]
     },
     "metadata": {},
     "output_type": "display_data"
    }
   ],
   "source": [
    "df.screen_name.value_counts().head(5).plot(kind=\"pie\");"
   ]
  },
  {
   "cell_type": "markdown",
   "id": "de6015a7",
   "metadata": {},
   "source": [
    "#### The top tweeters have equivalent tweets. its equally distributed"
   ]
  },
  {
   "cell_type": "code",
   "execution_count": 22,
   "id": "afefd3a2",
   "metadata": {},
   "outputs": [
    {
     "data": {
      "text/plain": [
       "Not provided                    5707\n",
       "India                            519\n",
       "United States                    254\n",
       "Sri Lanka                        228\n",
       "London, England                  195\n",
       "                                ... \n",
       "Ghaziabad, India                   2\n",
       "Lotus tower, Guindy, Chennai       2\n",
       "Berlin, Deutschland                2\n",
       "Bhubneshwar                        1\n",
       "Berlin                             1\n",
       "Name: location, Length: 221, dtype: int64"
      ]
     },
     "execution_count": 22,
     "metadata": {},
     "output_type": "execute_result"
    }
   ],
   "source": [
    "df.location.value_counts()"
   ]
  },
  {
   "cell_type": "code",
   "execution_count": 23,
   "id": "678b0a45",
   "metadata": {},
   "outputs": [
    {
     "data": {
      "image/png": "[encoded data removed]",
      "text/plain": [
       "<Figure size 432x288 with 1 Axes>"
      ]
     },
     "metadata": {},
     "output_type": "display_data"
    }
   ],
   "source": [
    "# top 5 locations of users\n",
    "top_locations = df.location.value_counts().head(5)\n",
    "top_locations.plot(kind=\"pie\", subplots=True, title=\"Top 5 locations of users\");"
   ]
  },
  {
   "cell_type": "markdown",
   "id": "1bccb4e3",
   "metadata": {},
   "source": [
    "#### This Pie chart tells us most locations are not provided. From the provided ones India has the most tweets about economic hardships"
   ]
  },
  {
   "cell_type": "code",
   "execution_count": 24,
   "id": "1a702dd3",
   "metadata": {},
   "outputs": [
    {
     "data": {
      "text/plain": [
       "Twitter for Android    6170\n",
       "Twitter for iPhone     4481\n",
       "Twitter Web App        3436\n",
       "Twitter for iPad        539\n",
       "TweetDeck               186\n",
       "Name: source, dtype: int64"
      ]
     },
     "execution_count": 24,
     "metadata": {},
     "output_type": "execute_result"
    }
   ],
   "source": [
    "df[\"source\"].value_counts().head(5)"
   ]
  },
  {
   "cell_type": "code",
   "execution_count": 25,
   "id": "d4e73733",
   "metadata": {},
   "outputs": [
    {
     "data": {
      "image/png": "[encoded data removed]",
      "text/plain": [
       "<Figure size 432x288 with 1 Axes>"
      ]
     },
     "metadata": {},
     "output_type": "display_data"
    }
   ],
   "source": [
    "df[\"source\"].value_counts().head(5).plot(kind=\"pie\");"
   ]
  },
  {
   "cell_type": "markdown",
   "id": "2854b876",
   "metadata": {},
   "source": [
    "#### This Shows us most authors use Android Phones and Iphone, almost 50% use android."
   ]
  },
  {
   "cell_type": "code",
   "execution_count": 40,
   "id": "ebde3ead",
   "metadata": {},
   "outputs": [
    {
     "data": {
      "text/html": [
       "<style type=\"text/css\">\n",
       "#T_cf40f_row0_col0, #T_cf40f_row1_col1, #T_cf40f_row2_col2, #T_cf40f_row3_col3, #T_cf40f_row4_col4, #T_cf40f_row5_col5, #T_cf40f_row6_col6 {\n",
       "  background-color: #ff00ff;\n",
       "  color: #f1f1f1;\n",
       "}\n",
       "#T_cf40f_row0_col1, #T_cf40f_row0_col3, #T_cf40f_row0_col4, #T_cf40f_row1_col0, #T_cf40f_row2_col0, #T_cf40f_row5_col2, #T_cf40f_row5_col3, #T_cf40f_row5_col4, #T_cf40f_row5_col6, #T_cf40f_row6_col5 {\n",
       "  background-color: #00ffff;\n",
       "  color: #000000;\n",
       "}\n",
       "#T_cf40f_row0_col2, #T_cf40f_row2_col4, #T_cf40f_row5_col1 {\n",
       "  background-color: #01feff;\n",
       "  color: #000000;\n",
       "}\n",
       "#T_cf40f_row0_col5 {\n",
       "  background-color: #7f80ff;\n",
       "  color: #f1f1f1;\n",
       "}\n",
       "#T_cf40f_row0_col6 {\n",
       "  background-color: #2ed1ff;\n",
       "  color: #000000;\n",
       "}\n",
       "#T_cf40f_row1_col2 {\n",
       "  background-color: #46b9ff;\n",
       "  color: #000000;\n",
       "}\n",
       "#T_cf40f_row1_col3, #T_cf40f_row1_col6, #T_cf40f_row3_col5, #T_cf40f_row4_col5 {\n",
       "  background-color: #07f8ff;\n",
       "  color: #000000;\n",
       "}\n",
       "#T_cf40f_row1_col4, #T_cf40f_row6_col4 {\n",
       "  background-color: #03fcff;\n",
       "  color: #000000;\n",
       "}\n",
       "#T_cf40f_row1_col5, #T_cf40f_row6_col2 {\n",
       "  background-color: #06f9ff;\n",
       "  color: #000000;\n",
       "}\n",
       "#T_cf40f_row2_col1 {\n",
       "  background-color: #45baff;\n",
       "  color: #000000;\n",
       "}\n",
       "#T_cf40f_row2_col3, #T_cf40f_row3_col0, #T_cf40f_row4_col0, #T_cf40f_row6_col1 {\n",
       "  background-color: #02fdff;\n",
       "  color: #000000;\n",
       "}\n",
       "#T_cf40f_row2_col5, #T_cf40f_row4_col2 {\n",
       "  background-color: #04fbff;\n",
       "  color: #000000;\n",
       "}\n",
       "#T_cf40f_row2_col6, #T_cf40f_row4_col6 {\n",
       "  background-color: #0af5ff;\n",
       "  color: #000000;\n",
       "}\n",
       "#T_cf40f_row3_col1 {\n",
       "  background-color: #09f6ff;\n",
       "  color: #000000;\n",
       "}\n",
       "#T_cf40f_row3_col2, #T_cf40f_row4_col1, #T_cf40f_row6_col3 {\n",
       "  background-color: #05faff;\n",
       "  color: #000000;\n",
       "}\n",
       "#T_cf40f_row3_col4, #T_cf40f_row4_col3 {\n",
       "  background-color: #d827ff;\n",
       "  color: #f1f1f1;\n",
       "}\n",
       "#T_cf40f_row3_col6 {\n",
       "  background-color: #0cf3ff;\n",
       "  color: #000000;\n",
       "}\n",
       "#T_cf40f_row5_col0 {\n",
       "  background-color: #7c83ff;\n",
       "  color: #f1f1f1;\n",
       "}\n",
       "#T_cf40f_row6_col0 {\n",
       "  background-color: #2ad5ff;\n",
       "  color: #000000;\n",
       "}\n",
       "</style>\n",
       "<table id=\"T_cf40f_\">\n",
       "  <thead>\n",
       "    <tr>\n",
       "      <th class=\"blank level0\" >&nbsp;</th>\n",
       "      <th class=\"col_heading level0 col0\" >statuses_count</th>\n",
       "      <th class=\"col_heading level0 col1\" >polarity</th>\n",
       "      <th class=\"col_heading level0 col2\" >subjectivity</th>\n",
       "      <th class=\"col_heading level0 col3\" >favorite_count</th>\n",
       "      <th class=\"col_heading level0 col4\" >retweet_count</th>\n",
       "      <th class=\"col_heading level0 col5\" >followers_count</th>\n",
       "      <th class=\"col_heading level0 col6\" >friends_count</th>\n",
       "    </tr>\n",
       "  </thead>\n",
       "  <tbody>\n",
       "    <tr>\n",
       "      <th id=\"T_cf40f_level0_row0\" class=\"row_heading level0 row0\" >statuses_count</th>\n",
       "      <td id=\"T_cf40f_row0_col0\" class=\"data row0 col0\" >1.000000</td>\n",
       "      <td id=\"T_cf40f_row0_col1\" class=\"data row0 col1\" >-0.020031</td>\n",
       "      <td id=\"T_cf40f_row0_col2\" class=\"data row0 col2\" >-0.018901</td>\n",
       "      <td id=\"T_cf40f_row0_col3\" class=\"data row0 col3\" >-0.009733</td>\n",
       "      <td id=\"T_cf40f_row0_col4\" class=\"data row0 col4\" >-0.011924</td>\n",
       "      <td id=\"T_cf40f_row0_col5\" class=\"data row0 col5\" >0.476688</td>\n",
       "      <td id=\"T_cf40f_row0_col6\" class=\"data row0 col6\" >0.148439</td>\n",
       "    </tr>\n",
       "    <tr>\n",
       "      <th id=\"T_cf40f_level0_row1\" class=\"row_heading level0 row1\" >polarity</th>\n",
       "      <td id=\"T_cf40f_row1_col0\" class=\"data row1 col0\" >-0.020031</td>\n",
       "      <td id=\"T_cf40f_row1_col1\" class=\"data row1 col1\" >1.000000</td>\n",
       "      <td id=\"T_cf40f_row1_col2\" class=\"data row1 col2\" >0.256483</td>\n",
       "      <td id=\"T_cf40f_row1_col3\" class=\"data row1 col3\" >0.017918</td>\n",
       "      <td id=\"T_cf40f_row1_col4\" class=\"data row1 col4\" >0.003710</td>\n",
       "      <td id=\"T_cf40f_row1_col5\" class=\"data row1 col5\" >-0.012497</td>\n",
       "      <td id=\"T_cf40f_row1_col6\" class=\"data row1 col6\" >-0.008206</td>\n",
       "    </tr>\n",
       "    <tr>\n",
       "      <th id=\"T_cf40f_level0_row2\" class=\"row_heading level0 row2\" >subjectivity</th>\n",
       "      <td id=\"T_cf40f_row2_col0\" class=\"data row2 col0\" >-0.018901</td>\n",
       "      <td id=\"T_cf40f_row2_col1\" class=\"data row2 col1\" >0.256483</td>\n",
       "      <td id=\"T_cf40f_row2_col2\" class=\"data row2 col2\" >1.000000</td>\n",
       "      <td id=\"T_cf40f_row2_col3\" class=\"data row2 col3\" >-0.003028</td>\n",
       "      <td id=\"T_cf40f_row2_col4\" class=\"data row2 col4\" >-0.005887</td>\n",
       "      <td id=\"T_cf40f_row2_col5\" class=\"data row2 col5\" >-0.023643</td>\n",
       "      <td id=\"T_cf40f_row2_col6\" class=\"data row2 col6\" >0.003772</td>\n",
       "    </tr>\n",
       "    <tr>\n",
       "      <th id=\"T_cf40f_level0_row3\" class=\"row_heading level0 row3\" >favorite_count</th>\n",
       "      <td id=\"T_cf40f_row3_col0\" class=\"data row3 col0\" >-0.009733</td>\n",
       "      <td id=\"T_cf40f_row3_col1\" class=\"data row3 col1\" >0.017918</td>\n",
       "      <td id=\"T_cf40f_row3_col2\" class=\"data row3 col2\" >-0.003028</td>\n",
       "      <td id=\"T_cf40f_row3_col3\" class=\"data row3 col3\" >1.000000</td>\n",
       "      <td id=\"T_cf40f_row3_col4\" class=\"data row3 col4\" >0.845029</td>\n",
       "      <td id=\"T_cf40f_row3_col5\" class=\"data row3 col5\" >-0.011048</td>\n",
       "      <td id=\"T_cf40f_row3_col6\" class=\"data row3 col6\" >0.011103</td>\n",
       "    </tr>\n",
       "    <tr>\n",
       "      <th id=\"T_cf40f_level0_row4\" class=\"row_heading level0 row4\" >retweet_count</th>\n",
       "      <td id=\"T_cf40f_row4_col0\" class=\"data row4 col0\" >-0.011924</td>\n",
       "      <td id=\"T_cf40f_row4_col1\" class=\"data row4 col1\" >0.003710</td>\n",
       "      <td id=\"T_cf40f_row4_col2\" class=\"data row4 col2\" >-0.005887</td>\n",
       "      <td id=\"T_cf40f_row4_col3\" class=\"data row4 col3\" >0.845029</td>\n",
       "      <td id=\"T_cf40f_row4_col4\" class=\"data row4 col4\" >1.000000</td>\n",
       "      <td id=\"T_cf40f_row4_col5\" class=\"data row4 col5\" >-0.010318</td>\n",
       "      <td id=\"T_cf40f_row4_col6\" class=\"data row4 col6\" >0.003550</td>\n",
       "    </tr>\n",
       "    <tr>\n",
       "      <th id=\"T_cf40f_level0_row5\" class=\"row_heading level0 row5\" >followers_count</th>\n",
       "      <td id=\"T_cf40f_row5_col0\" class=\"data row5 col0\" >0.476688</td>\n",
       "      <td id=\"T_cf40f_row5_col1\" class=\"data row5 col1\" >-0.012497</td>\n",
       "      <td id=\"T_cf40f_row5_col2\" class=\"data row5 col2\" >-0.023643</td>\n",
       "      <td id=\"T_cf40f_row5_col3\" class=\"data row5 col3\" >-0.011048</td>\n",
       "      <td id=\"T_cf40f_row5_col4\" class=\"data row5 col4\" >-0.010318</td>\n",
       "      <td id=\"T_cf40f_row5_col5\" class=\"data row5 col5\" >1.000000</td>\n",
       "      <td id=\"T_cf40f_row5_col6\" class=\"data row5 col6\" >-0.040616</td>\n",
       "    </tr>\n",
       "    <tr>\n",
       "      <th id=\"T_cf40f_level0_row6\" class=\"row_heading level0 row6\" >friends_count</th>\n",
       "      <td id=\"T_cf40f_row6_col0\" class=\"data row6 col0\" >0.148439</td>\n",
       "      <td id=\"T_cf40f_row6_col1\" class=\"data row6 col1\" >-0.008206</td>\n",
       "      <td id=\"T_cf40f_row6_col2\" class=\"data row6 col2\" >0.003772</td>\n",
       "      <td id=\"T_cf40f_row6_col3\" class=\"data row6 col3\" >0.011103</td>\n",
       "      <td id=\"T_cf40f_row6_col4\" class=\"data row6 col4\" >0.003550</td>\n",
       "      <td id=\"T_cf40f_row6_col5\" class=\"data row6 col5\" >-0.040616</td>\n",
       "      <td id=\"T_cf40f_row6_col6\" class=\"data row6 col6\" >1.000000</td>\n",
       "    </tr>\n",
       "  </tbody>\n",
       "</table>\n"
      ],
      "text/plain": [
       "<pandas.io.formats.style.Styler at 0x29f98c108b0>"
      ]
     },
     "execution_count": 40,
     "metadata": {},
     "output_type": "execute_result"
    }
   ],
   "source": [
    "corelation =  df.corr()\n",
    "corelation.style.background_gradient(cmap = \"cool\")\n"
   ]
  },
  {
   "cell_type": "markdown",
   "id": "2dd05b54",
   "metadata": {},
   "source": [
    "## Bivariate Analysis"
   ]
  },
  {
   "cell_type": "code",
   "execution_count": 26,
   "id": "b8b2bb59",
   "metadata": {},
   "outputs": [
    {
     "data": {
      "text/plain": [
       "<matplotlib.collections.PathCollection at 0x29f98a66580>"
      ]
     },
     "execution_count": 26,
     "metadata": {},
     "output_type": "execute_result"
    },
    {
     "data": {
      "image/png": "[encoded data removed]",
      "text/plain": [
       "<Figure size 432x288 with 1 Axes>"
      ]
     },
     "metadata": {
      "needs_background": "light"
     },
     "output_type": "display_data"
    }
   ],
   "source": [
    "plt.scatter(df.retweet_count, df.favorite_count)"
   ]
  },
  {
   "cell_type": "markdown",
   "id": "8736967f",
   "metadata": {},
   "source": [
    "##### retweet count and favorite count have corelation"
   ]
  },
  {
   "cell_type": "code",
   "execution_count": 27,
   "id": "9d695f3c",
   "metadata": {},
   "outputs": [
    {
     "data": {
      "text/plain": [
       "<matplotlib.collections.PathCollection at 0x29f98ae1fa0>"
      ]
     },
     "execution_count": 27,
     "metadata": {},
     "output_type": "execute_result"
    },
    {
     "data": {
      "image/png": "[encoded data removed]",
      "text/plain": [
       "<Figure size 432x288 with 1 Axes>"
      ]
     },
     "metadata": {
      "needs_background": "light"
     },
     "output_type": "display_data"
    }
   ],
   "source": [
    "plt.scatter(df.friends_count, df.favorite_count)"
   ]
  },
  {
   "cell_type": "markdown",
   "id": "0aea2a89",
   "metadata": {},
   "source": [
    "### More Univariate analysis using Histograms"
   ]
  },
  {
   "cell_type": "code",
   "execution_count": 28,
   "id": "ec7d8938",
   "metadata": {},
   "outputs": [
    {
     "data": {
      "text/plain": [
       "(array([  89.,  141.,  425.,  650., 1386., 9791., 1892., 1277.,  357.,\n",
       "         464.]),\n",
       " array([-1. , -0.8, -0.6, -0.4, -0.2,  0. ,  0.2,  0.4,  0.6,  0.8,  1. ]),\n",
       " <BarContainer object of 10 artists>)"
      ]
     },
     "execution_count": 28,
     "metadata": {},
     "output_type": "execute_result"
    },
    {
     "data": {
      "image/png": "[encoded data removed]",
      "text/plain": [
       "<Figure size 432x288 with 1 Axes>"
      ]
     },
     "metadata": {
      "needs_background": "light"
     },
     "output_type": "display_data"
    }
   ],
   "source": [
    "plt.hist(df['polarity'], bins=10)"
   ]
  },
  {
   "cell_type": "code",
   "execution_count": null,
   "id": "96327c80",
   "metadata": {},
   "outputs": [],
   "source": [
    "#### polarirty is evenly distributed so we can use the mean"
   ]
  },
  {
   "cell_type": "code",
   "execution_count": 29,
   "id": "f77dd603",
   "metadata": {},
   "outputs": [
    {
     "data": {
      "text/plain": [
       "(array([6503.,  770., 1519.,  975., 1346., 2355.,  841.,  531.,  393.,\n",
       "        1239.]),\n",
       " array([0. , 0.1, 0.2, 0.3, 0.4, 0.5, 0.6, 0.7, 0.8, 0.9, 1. ]),\n",
       " <BarContainer object of 10 artists>)"
      ]
     },
     "execution_count": 29,
     "metadata": {},
     "output_type": "execute_result"
    },
    {
     "data": {
      "image/png": "[encoded data removed]",
      "text/plain": [
       "<Figure size 432x288 with 1 Axes>"
      ]
     },
     "metadata": {
      "needs_background": "light"
     },
     "output_type": "display_data"
    }
   ],
   "source": [
    "plt.hist(df['subjectivity'], bins=10)"
   ]
  },
  {
   "cell_type": "markdown",
   "id": "3f371799",
   "metadata": {},
   "source": [
    "##### subjectivity is right skewed. its not evenly distributed. mean is greater than median. most are in the third quartile"
   ]
  },
  {
   "cell_type": "code",
   "execution_count": 30,
   "id": "0077e76c",
   "metadata": {},
   "outputs": [
    {
     "data": {
      "text/plain": [
       "38       [{'text': 'gold', 'indices': [116, 121]}, {'te...\n",
       "39                                                      []\n",
       "41                                                      []\n",
       "42                                                      []\n",
       "43                                                      []\n",
       "                               ...                        \n",
       "24584                                                   []\n",
       "24586                                                   []\n",
       "24596                                                   []\n",
       "24599                                                   []\n",
       "24622                                                   []\n",
       "Name: hashtags, Length: 16472, dtype: object"
      ]
     },
     "execution_count": 30,
     "metadata": {},
     "output_type": "execute_result"
    }
   ],
   "source": [
    "df['hashtags']"
   ]
  },
  {
   "cell_type": "code",
   "execution_count": 38,
   "id": "9a78f219",
   "metadata": {},
   "outputs": [
    {
     "data": {
      "text/plain": [
       "<matplotlib.collections.PathCollection at 0x29f98b94520>"
      ]
     },
     "execution_count": 38,
     "metadata": {},
     "output_type": "execute_result"
    },
    {
     "data": {
      "image/png": "[encoded data removed]",
      "text/plain": [
       "<Figure size 432x288 with 1 Axes>"
      ]
     },
     "metadata": {
      "needs_background": "light"
     },
     "output_type": "display_data"
    }
   ],
   "source": [
    "plt.scatter(df.polarity, df.subjectivity, alpha=0.1)"
   ]
  },
  {
   "cell_type": "code",
   "execution_count": 146,
   "id": "cf459797",
   "metadata": {},
   "outputs": [],
   "source": [
    "### Advanced Univariate Analysis"
   ]
  },
  {
   "cell_type": "code",
   "execution_count": 32,
   "id": "08dd630e",
   "metadata": {},
   "outputs": [
    {
     "data": {
      "text/plain": [
       "[<matplotlib.lines.Line2D at 0x29f98cb73d0>]"
      ]
     },
     "execution_count": 32,
     "metadata": {},
     "output_type": "execute_result"
    },
    {
     "data": {
      "image/png": "[encoded data removed]",
      "text/plain": [
       "<Figure size 432x288 with 1 Axes>"
      ]
     },
     "metadata": {
      "needs_background": "light"
     },
     "output_type": "display_data"
    }
   ],
   "source": [
    "df_india = df.loc[df['location'] == 'india']\n",
    "df_uniteds = df.loc[df['location'] == 'United States']\n",
    "df_srilanka = df.loc[df['location'] == 'Sri Lanka']\n",
    "df_london = df.loc[df['location'] == 'London, England']\n",
    "\n",
    "plt.plot(df_uniteds['statuses_count'], np.zeros_like(df_uniteds['statuses_count']))\n",
    "#plt.plot(df_london['statuses_count'], np.zeros_like(df_london['statuses_count']))\n",
    "plt.plot(df_srilanka['statuses_count'], np.zeros_like(df_srilanka['statuses_count']))"
   ]
  },
  {
   "cell_type": "code",
   "execution_count": 33,
   "id": "02d61a69",
   "metadata": {},
   "outputs": [
    {
     "data": {
      "text/plain": [
       "[<matplotlib.lines.Line2D at 0x29f98cba130>]"
      ]
     },
     "execution_count": 33,
     "metadata": {},
     "output_type": "execute_result"
    },
    {
     "data": {
      "image/png": "[encoded data removed]",
      "text/plain": [
       "<Figure size 432x288 with 1 Axes>"
      ]
     },
     "metadata": {
      "needs_background": "light"
     },
     "output_type": "display_data"
    }
   ],
   "source": [
    "plt.plot(df_uniteds['statuses_count'], np.zeros_like(df_uniteds['statuses_count']))\n",
    "plt.plot(df_london['statuses_count'], np.zeros_like(df_london['statuses_count']))"
   ]
  },
  {
   "cell_type": "code",
   "execution_count": null,
   "id": "02bc2b13",
   "metadata": {},
   "outputs": [],
   "source": [
    "#I have realized that america has the most number of status count on this univariate analysis "
   ]
  },
  {
   "cell_type": "code",
   "execution_count": null,
   "id": "abca5409",
   "metadata": {},
   "outputs": [],
   "source": []
  },
  {
   "cell_type": "code",
   "execution_count": 39,
   "id": "7c8c6572",
   "metadata": {},
   "outputs": [
    {
     "data": {
      "text/plain": [
       "<matplotlib.collections.PathCollection at 0x29f9820e370>"
      ]
     },
     "execution_count": 39,
     "metadata": {},
     "output_type": "execute_result"
    },
    {
     "data": {
      "image/png": "[encoded data removed]",
      "text/plain": [
       "<Figure size 432x288 with 1 Axes>"
      ]
     },
     "metadata": {
      "needs_background": "light"
     },
     "output_type": "display_data"
    }
   ],
   "source": [
    "plt.scatter(df.followers_count, df.statuses_count)"
   ]
  },
  {
   "cell_type": "code",
   "execution_count": null,
   "id": "3d98d8dc",
   "metadata": {},
   "outputs": [],
   "source": []
  }
 ],
 "metadata": {
  "kernelspec": {
   "display_name": "Python 3 (ipykernel)",
   "language": "python",
   "name": "python3"
  },
  "language_info": {
   "codemirror_mode": {
    "name": "ipython",
    "version": 3
   },
   "file_extension": ".py",
   "mimetype": "text/x-python",
   "name": "python",
   "nbconvert_exporter": "python",
   "pygments_lexer": "ipython3",
   "version": "3.9.7"
  }
 },
 "nbformat": 4,
 "nbformat_minor": 5
}
