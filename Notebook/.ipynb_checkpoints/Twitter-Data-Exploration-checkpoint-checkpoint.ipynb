{
 "cells": [
  {
   "cell_type": "markdown",
   "id": "fc476c49",
   "metadata": {},
   "source": [
    "\n",
    "# Data Explanatory & Pre processing\n"
   ]
  },
  {
   "cell_type": "code",
   "execution_count": 4,
   "id": "347e7622",
   "metadata": {},
   "outputs": [
    {
     "ename": "IndentationError",
     "evalue": "expected an indented block (clean_tweets_dataframe.py, line 71)",
     "output_type": "error",
     "traceback": [
      "Traceback \u001b[1;36m(most recent call last)\u001b[0m:\n",
      "  File \u001b[0;32m\"C:\\Users\\dell\\anaconda3\\lib\\site-packages\\IPython\\core\\interactiveshell.py\"\u001b[0m, line \u001b[0;32m3444\u001b[0m, in \u001b[0;35mrun_code\u001b[0m\n    exec(code_obj, self.user_global_ns, self.user_ns)\n",
      "\u001b[1;36m  File \u001b[1;32m\"C:\\Users\\dell\\AppData\\Local\\Temp/ipykernel_10556/589359319.py\"\u001b[1;36m, line \u001b[1;32m3\u001b[1;36m, in \u001b[1;35m<module>\u001b[1;36m\u001b[0m\n\u001b[1;33m    import clean_tweets_dataframe\u001b[0m\n",
      "\u001b[1;36m  File \u001b[1;32m\"C:\\Users\\dell\\Desktop\\Twitter-Data-Analysis\\Notebook\\clean_tweets_dataframe.py\"\u001b[1;36m, line \u001b[1;32m71\u001b[0m\n\u001b[1;33m    \"\"\"\u001b[0m\n\u001b[1;37m    ^\u001b[0m\n\u001b[1;31mIndentationError\u001b[0m\u001b[1;31m:\u001b[0m expected an indented block\n"
     ]
    }
   ],
   "source": [
    "import pandas as pd\n",
    "import matplotlib. pyplot as plt\n",
    "import clean_tweets_dataframe\n",
    "\n",
    "df = pd.read_csv('C:\\\\Users\\\\dell\\\\Desktop\\\\Twitter-Data-Analysis\\\\processed_tweet_data.csv', encoding='latin-1')\n",
    "\n",
    "df.head()"
   ]
  },
  {
   "cell_type": "markdown",
   "id": "b9ba146a",
   "metadata": {},
   "source": [
    "##### knowing the data types of the variable"
   ]
  },
  {
   "cell_type": "code",
   "execution_count": 3,
   "id": "226ac5a9",
   "metadata": {},
   "outputs": [
    {
     "ename": "NameError",
     "evalue": "name 'df' is not defined",
     "output_type": "error",
     "traceback": [
      "\u001b[1;31m---------------------------------------------------------------------------\u001b[0m",
      "\u001b[1;31mNameError\u001b[0m                                 Traceback (most recent call last)",
      "\u001b[1;32m~\\AppData\\Local\\Temp/ipykernel_10556/1612745408.py\u001b[0m in \u001b[0;36m<module>\u001b[1;34m\u001b[0m\n\u001b[1;32m----> 1\u001b[1;33m \u001b[0mprint\u001b[0m\u001b[1;33m(\u001b[0m\u001b[0mdf\u001b[0m\u001b[1;33m.\u001b[0m\u001b[0minfo\u001b[0m\u001b[1;33m(\u001b[0m\u001b[1;33m)\u001b[0m\u001b[1;33m)\u001b[0m\u001b[1;33m\u001b[0m\u001b[1;33m\u001b[0m\u001b[0m\n\u001b[0m",
      "\u001b[1;31mNameError\u001b[0m: name 'df' is not defined"
     ]
    }
   ],
   "source": [
    "print(df.info())"
   ]
  },
  {
   "cell_type": "markdown",
   "id": "d388eabb",
   "metadata": {},
   "source": [
    "##### To know how many columns(variables) and rows(expierments)"
   ]
  },
  {
   "cell_type": "code",
   "execution_count": 155,
   "id": "49d8744a",
   "metadata": {},
   "outputs": [
    {
     "data": {
      "text/plain": [
       "(24625, 16)"
      ]
     },
     "execution_count": 155,
     "metadata": {},
     "output_type": "execute_result"
    }
   ],
   "source": [
    "df.shape"
   ]
  },
  {
   "cell_type": "markdown",
   "id": "a385ab54",
   "metadata": {},
   "source": [
    "##### To Know Total amounts of null values"
   ]
  },
  {
   "cell_type": "code",
   "execution_count": 15,
   "id": "0d59df1b",
   "metadata": {},
   "outputs": [
    {
     "data": {
      "text/plain": [
       "statuses_count            0\n",
       "created_at                0\n",
       "source                    0\n",
       "original_text             0\n",
       "polarity                  0\n",
       "subjectivity              0\n",
       "favorite_count            0\n",
       "retweet_count             0\n",
       "screen_name               0\n",
       "followers_count           0\n",
       "friends_count             0\n",
       "possibly_sensitive    14650\n",
       "hashtags                  0\n",
       "user_mentions             0\n",
       "location               8894\n",
       "language                  0\n",
       "dtype: int64"
      ]
     },
     "execution_count": 15,
     "metadata": {},
     "output_type": "execute_result"
    }
   ],
   "source": [
    "df.isna().sum()"
   ]
  },
  {
   "cell_type": "code",
   "execution_count": 38,
   "id": "928a8893",
   "metadata": {},
   "outputs": [],
   "source": [
    "##Removing Duplicates"
   ]
  },
  {
   "cell_type": "code",
   "execution_count": 162,
   "id": "a2192a4a",
   "metadata": {},
   "outputs": [
    {
     "name": "stdout",
     "output_type": "stream",
     "text": [
      "Automation in Action...!!!\n"
     ]
    }
   ],
   "source": [
    "from clean_tweets_dataframe import Clean_Tweets\n",
    "clean_tweets = Clean_Tweets(df)"
   ]
  },
  {
   "cell_type": "code",
   "execution_count": 159,
   "id": "d96d4179",
   "metadata": {},
   "outputs": [
    {
     "data": {
      "text/plain": [
       "(24625, 16)"
      ]
     },
     "execution_count": 159,
     "metadata": {},
     "output_type": "execute_result"
    }
   ],
   "source": [
    "#clean_tweets.drop_duplicate(df)\n",
    "df.shape"
   ]
  },
  {
   "cell_type": "code",
   "execution_count": 160,
   "id": "51e8d425",
   "metadata": {},
   "outputs": [],
   "source": [
    "## No Duplicate Values"
   ]
  },
  {
   "cell_type": "code",
   "execution_count": 163,
   "id": "a0d4300a",
   "metadata": {},
   "outputs": [],
   "source": [
    "#tweets_df = clean_tweets.convert_to_numbers(df)\n",
    "#tweets_df.info()"
   ]
  },
  {
   "cell_type": "code",
   "execution_count": null,
   "id": "6f1106ec",
   "metadata": {},
   "outputs": [],
   "source": []
  },
  {
   "cell_type": "markdown",
   "id": "0e89a9d5",
   "metadata": {},
   "source": [
    "# DATA EXPLORATION"
   ]
  },
  {
   "cell_type": "code",
   "execution_count": 85,
   "id": "caea8961",
   "metadata": {},
   "outputs": [
    {
     "data": {
      "text/html": [
       "<div>\n",
       "<style scoped>\n",
       "    .dataframe tbody tr th:only-of-type {\n",
       "        vertical-align: middle;\n",
       "    }\n",
       "\n",
       "    .dataframe tbody tr th {\n",
       "        vertical-align: top;\n",
       "    }\n",
       "\n",
       "    .dataframe thead th {\n",
       "        text-align: right;\n",
       "    }\n",
       "</style>\n",
       "<table border=\"1\" class=\"dataframe\">\n",
       "  <thead>\n",
       "    <tr style=\"text-align: right;\">\n",
       "      <th></th>\n",
       "      <th>statuses_count</th>\n",
       "      <th>polarity</th>\n",
       "      <th>subjectivity</th>\n",
       "      <th>favorite_count</th>\n",
       "      <th>retweet_count</th>\n",
       "      <th>followers_count</th>\n",
       "      <th>friends_count</th>\n",
       "    </tr>\n",
       "  </thead>\n",
       "  <tbody>\n",
       "    <tr>\n",
       "      <th>count</th>\n",
       "      <td>2.462500e+04</td>\n",
       "      <td>24625.000000</td>\n",
       "      <td>24625.000000</td>\n",
       "      <td>2.462500e+04</td>\n",
       "      <td>24625.000000</td>\n",
       "      <td>2.462500e+04</td>\n",
       "      <td>24625.000000</td>\n",
       "    </tr>\n",
       "    <tr>\n",
       "      <th>mean</th>\n",
       "      <td>5.030458e+04</td>\n",
       "      <td>0.059958</td>\n",
       "      <td>0.218877</td>\n",
       "      <td>2.595941e+03</td>\n",
       "      <td>538.587168</td>\n",
       "      <td>1.025754e+05</td>\n",
       "      <td>1299.831878</td>\n",
       "    </tr>\n",
       "    <tr>\n",
       "      <th>std</th>\n",
       "      <td>1.427207e+05</td>\n",
       "      <td>0.238632</td>\n",
       "      <td>0.302802</td>\n",
       "      <td>2.903256e+04</td>\n",
       "      <td>6045.417765</td>\n",
       "      <td>1.013419e+06</td>\n",
       "      <td>2939.129745</td>\n",
       "    </tr>\n",
       "    <tr>\n",
       "      <th>min</th>\n",
       "      <td>1.000000e+00</td>\n",
       "      <td>-1.000000</td>\n",
       "      <td>0.000000</td>\n",
       "      <td>0.000000e+00</td>\n",
       "      <td>0.000000</td>\n",
       "      <td>0.000000e+00</td>\n",
       "      <td>0.000000</td>\n",
       "    </tr>\n",
       "    <tr>\n",
       "      <th>25%</th>\n",
       "      <td>1.696000e+03</td>\n",
       "      <td>0.000000</td>\n",
       "      <td>0.000000</td>\n",
       "      <td>0.000000e+00</td>\n",
       "      <td>0.000000</td>\n",
       "      <td>1.130000e+02</td>\n",
       "      <td>111.000000</td>\n",
       "    </tr>\n",
       "    <tr>\n",
       "      <th>50%</th>\n",
       "      <td>9.354000e+03</td>\n",
       "      <td>0.000000</td>\n",
       "      <td>0.000000</td>\n",
       "      <td>1.000000e+00</td>\n",
       "      <td>1.000000</td>\n",
       "      <td>4.910000e+02</td>\n",
       "      <td>413.000000</td>\n",
       "    </tr>\n",
       "    <tr>\n",
       "      <th>75%</th>\n",
       "      <td>4.148800e+04</td>\n",
       "      <td>0.055556</td>\n",
       "      <td>0.447115</td>\n",
       "      <td>1.150000e+02</td>\n",
       "      <td>37.000000</td>\n",
       "      <td>1.935000e+03</td>\n",
       "      <td>1336.000000</td>\n",
       "    </tr>\n",
       "    <tr>\n",
       "      <th>max</th>\n",
       "      <td>2.307455e+06</td>\n",
       "      <td>1.000000</td>\n",
       "      <td>1.000000</td>\n",
       "      <td>1.339072e+06</td>\n",
       "      <td>434379.000000</td>\n",
       "      <td>1.695995e+07</td>\n",
       "      <td>41866.000000</td>\n",
       "    </tr>\n",
       "  </tbody>\n",
       "</table>\n",
       "</div>"
      ],
      "text/plain": [
       "       statuses_count      polarity  subjectivity  favorite_count  \\\n",
       "count    2.462500e+04  24625.000000  24625.000000    2.462500e+04   \n",
       "mean     5.030458e+04      0.059958      0.218877    2.595941e+03   \n",
       "std      1.427207e+05      0.238632      0.302802    2.903256e+04   \n",
       "min      1.000000e+00     -1.000000      0.000000    0.000000e+00   \n",
       "25%      1.696000e+03      0.000000      0.000000    0.000000e+00   \n",
       "50%      9.354000e+03      0.000000      0.000000    1.000000e+00   \n",
       "75%      4.148800e+04      0.055556      0.447115    1.150000e+02   \n",
       "max      2.307455e+06      1.000000      1.000000    1.339072e+06   \n",
       "\n",
       "       retweet_count  followers_count  friends_count  \n",
       "count   24625.000000     2.462500e+04   24625.000000  \n",
       "mean      538.587168     1.025754e+05    1299.831878  \n",
       "std      6045.417765     1.013419e+06    2939.129745  \n",
       "min         0.000000     0.000000e+00       0.000000  \n",
       "25%         0.000000     1.130000e+02     111.000000  \n",
       "50%         1.000000     4.910000e+02     413.000000  \n",
       "75%        37.000000     1.935000e+03    1336.000000  \n",
       "max    434379.000000     1.695995e+07   41866.000000  "
      ]
     },
     "execution_count": 85,
     "metadata": {},
     "output_type": "execute_result"
    }
   ],
   "source": [
    "df.describe()\n"
   ]
  },
  {
   "cell_type": "markdown",
   "id": "40b8fa20",
   "metadata": {},
   "source": [
    "## Univariate Analysis using Pie Charts"
   ]
  },
  {
   "cell_type": "code",
   "execution_count": 47,
   "id": "045f7e97",
   "metadata": {},
   "outputs": [
    {
     "data": {
      "text/plain": [
       "PrabirpalBGM       50\n",
       "Richie_marvin67    50\n",
       "nolovekumbkaran    50\n",
       "HenzGang           50\n",
       "voakhmer           50\n",
       "                   ..\n",
       "ArchibaldBlume      7\n",
       "RulerDeadly         6\n",
       "electriccalcul1     2\n",
       "indrase41218989     1\n",
       "sarahtran1240       1\n",
       "Name: screen_name, Length: 500, dtype: int64"
      ]
     },
     "execution_count": 47,
     "metadata": {},
     "output_type": "execute_result"
    }
   ],
   "source": [
    "df.screen_name.value_counts()"
   ]
  },
  {
   "cell_type": "code",
   "execution_count": 73,
   "id": "1f6a2164",
   "metadata": {},
   "outputs": [
    {
     "data": {
      "image/png": "[encoded data removed]",
      "text/plain": [
       "<Figure size 432x288 with 1 Axes>"
      ]
     },
     "metadata": {},
     "output_type": "display_data"
    }
   ],
   "source": [
    "df.screen_name.value_counts().head(10).plot(kind=\"pie\");"
   ]
  },
  {
   "cell_type": "code",
   "execution_count": 75,
   "id": "49f419b6",
   "metadata": {},
   "outputs": [
    {
     "data": {
      "image/png": "[encoded data removed]",
      "text/plain": [
       "<Figure size 432x288 with 1 Axes>"
      ]
     },
     "metadata": {},
     "output_type": "display_data"
    }
   ],
   "source": [
    "df.screen_name.value_counts().head(5).plot(kind=\"pie\");"
   ]
  },
  {
   "cell_type": "markdown",
   "id": "de6015a7",
   "metadata": {},
   "source": [
    "#### The top tweeters have equivalent tweets. its equally distributed"
   ]
  },
  {
   "cell_type": "code",
   "execution_count": 69,
   "id": "afefd3a2",
   "metadata": {},
   "outputs": [
    {
     "data": {
      "text/plain": [
       "India                                   850\n",
       "Sri Lanka                               350\n",
       "United States                           300\n",
       "New Delhi                               300\n",
       "Hyderabad, India                        250\n",
       "                                       ... \n",
       "Germany, Hamburg                         50\n",
       "CA;FL ðºð² Patriot, Veteran ð§©     50\n",
       "South Carolina, USA                      50\n",
       "Deutschland                              50\n",
       "Gurgaon, Haryana                         50\n",
       "Name: location, Length: 234, dtype: int64"
      ]
     },
     "execution_count": 69,
     "metadata": {},
     "output_type": "execute_result"
    }
   ],
   "source": [
    "df.location.value_counts()"
   ]
  },
  {
   "cell_type": "code",
   "execution_count": 68,
   "id": "678b0a45",
   "metadata": {},
   "outputs": [
    {
     "data": {
      "image/png": "[encoded data removed]",
      "text/plain": [
       "<Figure size 432x288 with 1 Axes>"
      ]
     },
     "metadata": {},
     "output_type": "display_data"
    }
   ],
   "source": [
    "# top 5 locations of users\n",
    "top_locations = df.location.value_counts().head(5)\n",
    "top_locations.plot(kind=\"pie\", subplots=True, title=\"Top 5 locations of users\");"
   ]
  },
  {
   "cell_type": "markdown",
   "id": "1bccb4e3",
   "metadata": {},
   "source": [
    "#### This Pie chart tells us more than half of the tweets come from INDIA."
   ]
  },
  {
   "cell_type": "code",
   "execution_count": 64,
   "id": "1a702dd3",
   "metadata": {},
   "outputs": [
    {
     "data": {
      "text/plain": [
       "<a href=\"http://twitter.com/download/android\" rel=\"nofollow\">Twitter for Android</a>    10804\n",
       "<a href=\"http://twitter.com/download/iphone\" rel=\"nofollow\">Twitter for iPhone</a>       5375\n",
       "<a href=\"https://mobile.twitter.com\" rel=\"nofollow\">Twitter Web App</a>                  5114\n",
       "<a href=\"http://twitter.com/#!/download/ipad\" rel=\"nofollow\">Twitter for iPad</a>         597\n",
       "<a href=\"https://about.twitter.com/products/tweetdeck\" rel=\"nofollow\">TweetDeck</a>       270\n",
       "                                                                                        ...  \n",
       "<a href=\"https://www.24liveblog.com/\" rel=\"nofollow\">24liveblog</a>                         1\n",
       "<a href=\"https://www.loomly.com/\" rel=\"nofollow\">Loomly</a>                                 1\n",
       "<a href=\"https://ifttt.com\" rel=\"nofollow\">IFTTT</a>                                        1\n",
       "<a href=\"http://tweepsmap.com\" rel=\"nofollow\">Tweepsmap</a>                                 1\n",
       "<a href=\"https://usepostly.com\" rel=\"nofollow\">Postly-Fast Content Scheduler</a>            1\n",
       "Name: source, Length: 66, dtype: int64"
      ]
     },
     "execution_count": 64,
     "metadata": {},
     "output_type": "execute_result"
    }
   ],
   "source": [
    "df[\"source\"].value_counts() "
   ]
  },
  {
   "cell_type": "code",
   "execution_count": 66,
   "id": "d4e73733",
   "metadata": {},
   "outputs": [
    {
     "data": {
      "image/png": "[encoded data removed]",
      "text/plain": [
       "<Figure size 432x288 with 1 Axes>"
      ]
     },
     "metadata": {},
     "output_type": "display_data"
    }
   ],
   "source": [
    "df[\"source\"].value_counts().head(5).plot(kind=\"pie\");"
   ]
  },
  {
   "cell_type": "markdown",
   "id": "2854b876",
   "metadata": {},
   "source": [
    "#### This Shows us most authors use Android Phones and Iphone, almost 50% use android."
   ]
  },
  {
   "cell_type": "code",
   "execution_count": 131,
   "id": "ebde3ead",
   "metadata": {},
   "outputs": [
    {
     "data": {
      "text/plain": [
       "\"[{'screen_name': 'nikitheblogger', 'name': 'Neverforgetniki', 'id': 809188392089092097, 'id_str': '809188392089092097', 'indices': [3, 18]}]\""
      ]
     },
     "execution_count": 131,
     "metadata": {},
     "output_type": "execute_result"
    }
   ],
   "source": [
    "df[\"user_mentions\"].tolist()[0]\n"
   ]
  },
  {
   "cell_type": "markdown",
   "id": "2dd05b54",
   "metadata": {},
   "source": [
    "## Bivariate Analysis"
   ]
  },
  {
   "cell_type": "code",
   "execution_count": 123,
   "id": "b8b2bb59",
   "metadata": {},
   "outputs": [
    {
     "data": {
      "text/plain": [
       "<matplotlib.collections.PathCollection at 0x1e60f46b340>"
      ]
     },
     "execution_count": 123,
     "metadata": {},
     "output_type": "execute_result"
    },
    {
     "data": {
      "image/png": "[encoded data removed]",
      "text/plain": [
       "<Figure size 432x288 with 1 Axes>"
      ]
     },
     "metadata": {
      "needs_background": "light"
     },
     "output_type": "display_data"
    }
   ],
   "source": [
    "plt.scatter(df.retweet_count, df.favorite_count)"
   ]
  },
  {
   "cell_type": "markdown",
   "id": "8736967f",
   "metadata": {},
   "source": [
    "##### retweet count and favorite count have corelation"
   ]
  },
  {
   "cell_type": "code",
   "execution_count": 124,
   "id": "9d695f3c",
   "metadata": {},
   "outputs": [
    {
     "data": {
      "text/plain": [
       "<matplotlib.collections.PathCollection at 0x1e60ae52910>"
      ]
     },
     "execution_count": 124,
     "metadata": {},
     "output_type": "execute_result"
    },
    {
     "data": {
      "image/png": "[encoded data removed]",
      "text/plain": [
       "<Figure size 432x288 with 1 Axes>"
      ]
     },
     "metadata": {
      "needs_background": "light"
     },
     "output_type": "display_data"
    }
   ],
   "source": [
    "plt.scatter(df.friends_count, df.favorite_count)"
   ]
  },
  {
   "cell_type": "markdown",
   "id": "0aea2a89",
   "metadata": {},
   "source": [
    "### More Univariate analysis using Histograms"
   ]
  },
  {
   "cell_type": "code",
   "execution_count": 185,
   "id": "ec7d8938",
   "metadata": {},
   "outputs": [
    {
     "data": {
      "text/plain": [
       "(array([   97.,   170.,   456.,   670.,  1435., 17688.,  1928.,  1328.,\n",
       "          362.,   491.]),\n",
       " array([-1. , -0.8, -0.6, -0.4, -0.2,  0. ,  0.2,  0.4,  0.6,  0.8,  1. ]),\n",
       " <BarContainer object of 10 artists>)"
      ]
     },
     "execution_count": 185,
     "metadata": {},
     "output_type": "execute_result"
    },
    {
     "data": {
      "image/png": "[encoded data removed]",
      "text/plain": [
       "<Figure size 432x288 with 1 Axes>"
      ]
     },
     "metadata": {
      "needs_background": "light"
     },
     "output_type": "display_data"
    }
   ],
   "source": [
    "plt.hist(df['polarity'], bins=10)"
   ]
  },
  {
   "cell_type": "code",
   "execution_count": null,
   "id": "96327c80",
   "metadata": {},
   "outputs": [],
   "source": [
    "#### polarirty is evenly distributed so we can use the mean"
   ]
  },
  {
   "cell_type": "code",
   "execution_count": 186,
   "id": "f77dd603",
   "metadata": {},
   "outputs": [
    {
     "data": {
      "text/plain": [
       "(array([14302.,   797.,  1560.,   998.,  1374.,  2434.,   868.,   539.,\n",
       "          410.,  1343.]),\n",
       " array([0. , 0.1, 0.2, 0.3, 0.4, 0.5, 0.6, 0.7, 0.8, 0.9, 1. ]),\n",
       " <BarContainer object of 10 artists>)"
      ]
     },
     "execution_count": 186,
     "metadata": {},
     "output_type": "execute_result"
    },
    {
     "data": {
      "image/png": "[encoded data removed]",
      "text/plain": [
       "<Figure size 432x288 with 1 Axes>"
      ]
     },
     "metadata": {
      "needs_background": "light"
     },
     "output_type": "display_data"
    }
   ],
   "source": [
    "plt.hist(df['subjectivity'], bins=10)"
   ]
  },
  {
   "cell_type": "markdown",
   "id": "3f371799",
   "metadata": {},
   "source": [
    "##### subjectivity is right skewed. its not evenly distributed. mean is greater than median. most are in the third quartile"
   ]
  },
  {
   "cell_type": "code",
   "execution_count": null,
   "id": "0077e76c",
   "metadata": {},
   "outputs": [],
   "source": []
  },
  {
   "cell_type": "code",
   "execution_count": null,
   "id": "9a78f219",
   "metadata": {},
   "outputs": [],
   "source": []
  }
 ],
 "metadata": {
  "kernelspec": {
   "display_name": "Python 3 (ipykernel)",
   "language": "python",
   "name": "python3"
  },
  "language_info": {
   "codemirror_mode": {
    "name": "ipython",
    "version": 3
   },
   "file_extension": ".py",
   "mimetype": "text/x-python",
   "name": "python",
   "nbconvert_exporter": "python",
   "pygments_lexer": "ipython3",
   "version": "3.9.7"
  }
 },
 "nbformat": 4,
 "nbformat_minor": 5
}
