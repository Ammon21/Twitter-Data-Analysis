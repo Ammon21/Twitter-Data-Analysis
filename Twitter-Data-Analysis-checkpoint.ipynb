{
 "cells": [
  {
   "cell_type": "code",
   "execution_count": null,
   "id": "7ca014ed",
   "metadata": {},
   "outputs": [],
   "source": [
    "Data PreProcessing "
   ]
  },
  {
   "cell_type": "code",
   "execution_count": 26,
   "id": "347e7622",
   "metadata": {},
   "outputs": [
    {
     "name": "stdout",
     "output_type": "stream",
     "text": [
      "   statuses_count                      created_at  \\\n",
      "0              40  Fri Apr 22 22:20:18 +0000 2022   \n",
      "1              40  Fri Apr 22 22:19:16 +0000 2022   \n",
      "2              40  Fri Apr 22 22:17:28 +0000 2022   \n",
      "3              40  Fri Apr 22 22:17:20 +0000 2022   \n",
      "4              40  Fri Apr 22 22:13:15 +0000 2022   \n",
      "\n",
      "                                              source  \\\n",
      "0  <a href=\"http://twitter.com/download/android\" ...   \n",
      "1  <a href=\"http://twitter.com/download/android\" ...   \n",
      "2  <a href=\"http://twitter.com/download/android\" ...   \n",
      "3  <a href=\"http://twitter.com/download/android\" ...   \n",
      "4  <a href=\"http://twitter.com/download/android\" ...   \n",
      "\n",
      "                                       original_text  polarity  subjectivity  \\\n",
      "0  RT @nikitheblogger: Irre: Annalena Baerbock sa...       0.0           0.0   \n",
      "1  RT @sagt_mit: Merkel schaffte es in 1 Jahr 1 M...       0.0           0.0   \n",
      "2  RT @Kryptonoun: @WRi007 Pharma in Lebensmittel...       0.0           0.0   \n",
      "3  RT @WRi007: Die #Deutschen sind ein braves Vol...       0.0           0.0   \n",
      "4  RT @RolandTichy: Baerbock verkÃ¼ndet mal so ne...       0.0           0.0   \n",
      "\n",
      "   favorite_count  retweet_count   screen_name  followers_count  \\\n",
      "0            2356            355  McMc74078966                3   \n",
      "1            1985            505  McMc74078966                3   \n",
      "2              16              4  McMc74078966                3   \n",
      "3            1242            332  McMc74078966                3   \n",
      "4            1329            386  McMc74078966                3   \n",
      "\n",
      "   friends_count possibly_sensitive  \\\n",
      "0             12                NaN   \n",
      "1             12                NaN   \n",
      "2             12                NaN   \n",
      "3             12                NaN   \n",
      "4             12                NaN   \n",
      "\n",
      "                                            hashtags  \\\n",
      "0                                                 []   \n",
      "1                                                 []   \n",
      "2                                                 []   \n",
      "3  [{'text': 'Deutschen', 'indices': [16, 26]}, {...   \n",
      "4                                                 []   \n",
      "\n",
      "                                       user_mentions location language  \n",
      "0  [{'screen_name': 'nikitheblogger', 'name': 'Ne...      NaN       de  \n",
      "1  [{'screen_name': 'sagt_mit', 'name': 'Sie sagt...      NaN       de  \n",
      "2  [{'screen_name': 'Kryptonoun', 'name': 'Krypto...      NaN       de  \n",
      "3  [{'screen_name': 'WRi007', 'name': 'Wolfgang B...      NaN       de  \n",
      "4  [{'screen_name': 'RolandTichy', 'name': 'Rolan...      NaN       de  \n"
     ]
    }
   ],
   "source": [
    "import pandas as pd\n",
    "\n",
    "df = pd.read_csv('C:\\\\Users\\\\dell\\\\Desktop\\\\Twitter-Data-Analysis\\\\processed_tweet_data.csv', encoding='latin-1')\n",
    "\n",
    "print(df.head())"
   ]
  },
  {
   "cell_type": "code",
   "execution_count": 25,
   "id": "226ac5a9",
   "metadata": {},
   "outputs": [
    {
     "name": "stdout",
     "output_type": "stream",
     "text": [
      "<class 'pandas.core.frame.DataFrame'>\n",
      "RangeIndex: 24625 entries, 0 to 24624\n",
      "Data columns (total 16 columns):\n",
      " #   Column              Non-Null Count  Dtype  \n",
      "---  ------              --------------  -----  \n",
      " 0   statuses_count      24625 non-null  int64  \n",
      " 1   created_at          24625 non-null  object \n",
      " 2   source              24625 non-null  object \n",
      " 3   original_text       24625 non-null  object \n",
      " 4   polarity            24625 non-null  float64\n",
      " 5   subjectivity        24625 non-null  float64\n",
      " 6   favorite_count      24625 non-null  int64  \n",
      " 7   retweet_count       24625 non-null  int64  \n",
      " 8   screen_name         24625 non-null  object \n",
      " 9   followers_count     24625 non-null  int64  \n",
      " 10  friends_count       24625 non-null  int64  \n",
      " 11  possibly_sensitive  9975 non-null   object \n",
      " 12  hashtags            24625 non-null  object \n",
      " 13  user_mentions       24625 non-null  object \n",
      " 14  location            15731 non-null  object \n",
      " 15  language            24625 non-null  object \n",
      "dtypes: float64(2), int64(5), object(9)\n",
      "memory usage: 3.0+ MB\n",
      "None\n"
     ]
    }
   ],
   "source": [
    "print(df.info())"
   ]
  },
  {
   "cell_type": "code",
   "execution_count": null,
   "id": "46dd7f91",
   "metadata": {},
   "outputs": [],
   "source": [
    "### To know how many columns and rows"
   ]
  },
  {
   "cell_type": "code",
   "execution_count": 32,
   "id": "49d8744a",
   "metadata": {},
   "outputs": [
    {
     "data": {
      "text/plain": [
       "(24625, 16)"
      ]
     },
     "execution_count": 32,
     "metadata": {},
     "output_type": "execute_result"
    }
   ],
   "source": [
    "df.shape"
   ]
  },
  {
   "cell_type": "code",
   "execution_count": 33,
   "id": "75b17547",
   "metadata": {},
   "outputs": [],
   "source": [
    "##To Know Total amounts of null values"
   ]
  },
  {
   "cell_type": "code",
   "execution_count": 34,
   "id": "0d59df1b",
   "metadata": {},
   "outputs": [
    {
     "data": {
      "text/plain": [
       "statuses_count            0\n",
       "created_at                0\n",
       "source                    0\n",
       "original_text             0\n",
       "polarity                  0\n",
       "subjectivity              0\n",
       "favorite_count            0\n",
       "retweet_count             0\n",
       "screen_name               0\n",
       "followers_count           0\n",
       "friends_count             0\n",
       "possibly_sensitive    14650\n",
       "hashtags                  0\n",
       "user_mentions             0\n",
       "location               8894\n",
       "language                  0\n",
       "dtype: int64"
      ]
     },
     "execution_count": 34,
     "metadata": {},
     "output_type": "execute_result"
    }
   ],
   "source": [
    "df.isna().sum()"
   ]
  },
  {
   "cell_type": "code",
   "execution_count": 38,
   "id": "928a8893",
   "metadata": {},
   "outputs": [],
   "source": [
    "##Removing Duplicates"
   ]
  },
  {
   "cell_type": "code",
   "execution_count": 39,
   "id": "a2192a4a",
   "metadata": {},
   "outputs": [
    {
     "name": "stdout",
     "output_type": "stream",
     "text": [
      "Automation in Action...!!!\n"
     ]
    }
   ],
   "source": [
    "from clean_tweets_dataframe import Clean_Tweets\n",
    "clean_tweets = Clean_Tweets(df)"
   ]
  },
  {
   "cell_type": "code",
   "execution_count": 40,
   "id": "d96d4179",
   "metadata": {},
   "outputs": [
    {
     "data": {
      "text/plain": [
       "(24625, 16)"
      ]
     },
     "execution_count": 40,
     "metadata": {},
     "output_type": "execute_result"
    }
   ],
   "source": [
    "df.shape\n"
   ]
  },
  {
   "cell_type": "code",
   "execution_count": null,
   "id": "51e8d425",
   "metadata": {},
   "outputs": [],
   "source": [
    "No Duplicate Values"
   ]
  }
 ],
 "metadata": {
  "kernelspec": {
   "display_name": "Python 3 (ipykernel)",
   "language": "python",
   "name": "python3"
  },
  "language_info": {
   "codemirror_mode": {
    "name": "ipython",
    "version": 3
   },
   "file_extension": ".py",
   "mimetype": "text/x-python",
   "name": "python",
   "nbconvert_exporter": "python",
   "pygments_lexer": "ipython3",
   "version": "3.9.7"
  }
 },
 "nbformat": 4,
 "nbformat_minor": 5
}
